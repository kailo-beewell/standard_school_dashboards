{
 "cells": [
  {
   "cell_type": "markdown",
   "metadata": {},
   "source": [
    "# Aggregate demographic data\n",
    "\n",
    "This is similar to `4_aggregate_responses.ipynb` but performed seperatley as we want to aggregate for one school and then v.s. all other schools as one group - and we don't want to breakdown those results any further by any demographic characteristics.\n",
    "\n",
    "**Note:** This method assumes that all pupils in the dataset belong to a school, and that the dataset only contains Northern Devon schools. If either of those conditions changes, you will need to review the code below.\n",
    "\n",
    "## Set-up\n",
    "\n",
    "### Packages and file paths"
   ]
  },
  {
   "cell_type": "code",
   "execution_count": null,
   "metadata": {},
   "outputs": [],
   "source": [
    "# Import required packages\n",
    "from collections import defaultdict\n",
    "from dataclasses import dataclass\n",
    "import numpy as np\n",
    "import os\n",
    "import pandas as pd"
   ]
  },
  {
   "cell_type": "code",
   "execution_count": null,
   "metadata": {},
   "outputs": [],
   "source": [
    "# File paths\n",
    "@dataclass(frozen=True)\n",
    "class Paths:\n",
    "    '''Stores paths to data and files'''\n",
    "    survey = '../data/survey_data'\n",
    "    synthetic_data = 'synthetic_data_raw.csv'\n",
    "    aggregate = 'aggregate_demographic.csv'\n",
    "\n",
    "\n",
    "paths = Paths()"
   ]
  },
  {
   "cell_type": "code",
   "execution_count": null,
   "metadata": {},
   "outputs": [],
   "source": [
    "# Import functions defined elsewhere\n",
    "import sys\n",
    "sys.path.append('../')\n",
    "from utilities.response_labels import create_response_label_dict\n",
    "from create_and_process_data.functions import results_by_school_and_group"
   ]
  },
  {
   "cell_type": "markdown",
   "metadata": {},
   "source": [
    "### Import raw data"
   ]
  },
  {
   "cell_type": "code",
   "execution_count": null,
   "metadata": {},
   "outputs": [],
   "source": [
    "data = pd.read_csv(os.path.join(paths.survey, paths.synthetic_data))\n",
    "data.head()"
   ]
  },
  {
   "cell_type": "markdown",
   "metadata": {},
   "source": [
    "### Aggregate data"
   ]
  },
  {
   "cell_type": "code",
   "execution_count": null,
   "metadata": {},
   "outputs": [],
   "source": [
    "# Make list of columns that we want to gather responses from\n",
    "survey_col = ['gender', 'transgender', 'sexual_orientation', 'neurodivergent',\n",
    "              'birth_parent1', 'birth_parent2', 'birth_you', 'birth_you_age',\n",
    "              'young_carer', 'care_experience']\n",
    "council_col = ['year_group', 'fsm', 'sen', 'ethnicity', 'english_additional']\n",
    "response_col = survey_col + council_col\n",
    "\n",
    "# Import dictionary which has response options for each variable\n",
    "labels = create_response_label_dict()\n",
    "\n",
    "# Add 'NaN': 'No response' to the dictionary for survey columns, and\n",
    "# 'NaN': 'No data' for the council columns\n",
    "for col in survey_col:\n",
    "    labels[col].update({np.nan: 'No response'})\n",
    "for col in council_col:\n",
    "    labels[col].update({np.nan: 'No data'})\n",
    "\n",
    "# Preview two examples\n",
    "print(labels['birth_parent1'])\n",
    "print(labels['year_group'])"
   ]
  },
  {
   "cell_type": "markdown",
   "metadata": {},
   "source": [
    "Define function for aggregating responses to each variable, designed so that it counts the occurence of all possible values, rather than basing it on only the values present (e.g. if e.g. no-one responded 3, it will just have counts of responses to 1 2 and 4, and when it comes to plotting, that can create issues).\n",
    "\n",
    "**Copied from 4_aggregate_response**"
   ]
  },
  {
   "cell_type": "code",
   "execution_count": null,
   "metadata": {},
   "outputs": [],
   "source": [
    "def aggregate(data):\n",
    "    '''\n",
    "    Aggregates each of the columns provided by response_col, for the chosen\n",
    "    dataset. Uses the known possible values for each column, it counts\n",
    "    occurences of each (inc. number missing) and makes the answer as a single\n",
    "    dataframe row, where counts and percentages and categories are stored as\n",
    "    lists within cells of that row. The function returns a dataframe containing\n",
    "    all of those rows.\n",
    "    Inputs:\n",
    "    - data - dataframe\n",
    "    '''\n",
    "    # Initialise list to store rows of the dataframe\n",
    "    rows = list()\n",
    "\n",
    "    # Loop through the columns of interest\n",
    "    for col_lab in response_col:\n",
    "\n",
    "        # Find the name of the numeric version of the column\n",
    "        col = col_lab.replace('_lab', '')\n",
    "\n",
    "        # Find value counts\n",
    "        value_counts = data[col].value_counts(dropna=False)\n",
    "\n",
    "        # Get all possible category values and labels from dictionary\n",
    "        cat = list(labels[col].keys())\n",
    "        cat_lab = list(labels[col].values())\n",
    "\n",
    "        # Initalise list for storing counts\n",
    "        counts = []\n",
    "        # For each of the possible values in labels - if the value was present,\n",
    "        # extract from the counts series, but if not, set count to 0\n",
    "        for value in labels[col].keys():\n",
    "            if value in value_counts.index:\n",
    "                counts.append(value_counts[value])\n",
    "            else:\n",
    "                counts.append(0)\n",
    "\n",
    "        # Convert list of counts to list of percentages, and create rounded version\n",
    "        percentages = [(x/sum(counts))*100 for x in counts]\n",
    "\n",
    "        # Create dataframe row using the calculated data\n",
    "        df_row = pd.DataFrame({\n",
    "            'cat': [cat],\n",
    "            'cat_lab': [cat_lab],\n",
    "            'count': [counts],\n",
    "            'percentage': [percentages],\n",
    "            'measure': col,\n",
    "            'n_responses': sum(counts)\n",
    "        })\n",
    "        # Append to list\n",
    "        rows.append(df_row)\n",
    "\n",
    "    # Combine into a single dataframe and return\n",
    "    return(pd.concat(rows))\n"
   ]
  },
  {
   "cell_type": "markdown",
   "metadata": {},
   "source": [
    "**below is similar but not the same as aggregate_responses - see where differences ultimately arise and decide whether this can be combined into the old function and how (think should be able to)**"
   ]
  },
  {
   "cell_type": "code",
   "execution_count": null,
   "metadata": {},
   "outputs": [],
   "source": [
    "# Initialise list to store results\n",
    "result_list = list()\n",
    "\n",
    "# For each of the schools (which we know will all be present at least once\n",
    "# as we base the school list on the dataset itself)\n",
    "schools = data['school_lab'].dropna().drop_duplicates().sort_values()\n",
    "for school in schools:\n",
    "\n",
    "    # Add label identifying the school as being the current one or now\n",
    "    data['school_group'] = np.where(data['school_lab'] == school, 1, 0)\n",
    "\n",
    "    # Loop through each of those groups (current school v.s. all other schools)\n",
    "    for group in [1,0]:\n",
    "\n",
    "        # Filter to the group and then aggregate the data\n",
    "        to_agg = data[data['school_group'] == group]\n",
    "        res = aggregate(to_agg)\n",
    "\n",
    "        # Label with the group\n",
    "        res['school_lab'] = school\n",
    "        res['school_group'] = group\n",
    "\n",
    "        # Append results to list\n",
    "        result_list.append(res)\n",
    "\n",
    "# Combine all the results into a single dataframe\n",
    "result = pd.concat(result_list)\n",
    "\n",
    "# Hide results where n<10\n",
    "result.loc[result['n_responses'] < 10,\n",
    "           ['count', 'percentage', 'n_responses']] = np.nan\n",
    "\n",
    "# Add labels that can use in figures\n",
    "result['school_group_lab'] = np.where(\n",
    "    result['school_group'] == 1, 'Your school', 'Other schools in\\nNorthern Devon')"
   ]
  },
  {
   "cell_type": "code",
   "execution_count": null,
   "metadata": {},
   "outputs": [],
   "source": [
    "result.head()"
   ]
  },
  {
   "cell_type": "markdown",
   "metadata": {},
   "source": [
    "### Add labels for each measure"
   ]
  },
  {
   "cell_type": "code",
   "execution_count": null,
   "metadata": {},
   "outputs": [],
   "source": [
    "# Define labels\n",
    "labels = {\n",
    "    'gender': 'Gender',\n",
    "    'transgender': 'Do you consider yourself to be transgender?',\n",
    "    'sexual_orientation': 'Sexual orientation',\n",
    "    'neurodivergent': 'Do you identify as neurodivergent?',\n",
    "    'young_carer': 'In the last year, have you regularly taken on caring responsibilities for a family member - e.g. due to illness, disability, mental health condition or drug/alcohol dependency?',\n",
    "    'care_experience': 'Are you or have you ever been in care (living in a foster placement, residential placement, or private/kinship care)?',\n",
    "    'birth_parent1': 'Was birth parent 1 born outside the UK?',\n",
    "    'birth_parent2': 'Was birth parent 2 born outside the UK?',\n",
    "    'birth_you': 'Were you born outside the UK?',\n",
    "    'birth_you_age': 'How old were you when you arrived in the UK?',\n",
    "    'year_group': 'Year group',\n",
    "    'fsm': 'Free school meals',\n",
    "    'sen': 'Special educational needs',\n",
    "    'ethnicity': 'Ethnicity',\n",
    "    'english_additional': 'English as an additional lanaguage'\n",
    "}\n",
    "\n",
    "# Add labels\n",
    "result['measure_lab'] = result['measure'].map(labels)\n",
    "\n",
    "# Preview\n",
    "result.head()"
   ]
  },
  {
   "cell_type": "markdown",
   "metadata": {},
   "source": [
    "### Save results"
   ]
  },
  {
   "cell_type": "code",
   "execution_count": null,
   "metadata": {},
   "outputs": [],
   "source": [
    "result.to_csv(os.path.join(paths.survey, paths.aggregate), index=False)"
   ]
  }
 ],
 "metadata": {
  "kernelspec": {
   "display_name": "kailo_dashboards",
   "language": "python",
   "name": "python3"
  },
  "language_info": {
   "codemirror_mode": {
    "name": "ipython",
    "version": 3
   },
   "file_extension": ".py",
   "mimetype": "text/x-python",
   "name": "python",
   "nbconvert_exporter": "python",
   "pygments_lexer": "ipython3",
   "version": "3.9.12"
  }
 },
 "nbformat": 4,
 "nbformat_minor": 2
}
