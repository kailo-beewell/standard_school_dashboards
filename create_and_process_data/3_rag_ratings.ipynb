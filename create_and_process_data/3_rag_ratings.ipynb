{
 "cells": [
  {
   "cell_type": "markdown",
   "metadata": {},
   "source": [
    "## Create RAG ratings for the aggregate data"
   ]
  },
  {
   "cell_type": "markdown",
   "metadata": {},
   "source": [
    "## Set-up"
   ]
  },
  {
   "cell_type": "markdown",
   "metadata": {},
   "source": [
    "### Packages and file paths"
   ]
  },
  {
   "cell_type": "code",
   "execution_count": 1,
   "metadata": {},
   "outputs": [],
   "source": [
    "# Import required packages\n",
    "from dataclasses import dataclass\n",
    "import numpy as np\n",
    "import os\n",
    "import pandas as pd"
   ]
  },
  {
   "cell_type": "code",
   "execution_count": 2,
   "metadata": {},
   "outputs": [],
   "source": [
    "# File paths\n",
    "@dataclass(frozen=True)\n",
    "class Paths:\n",
    "    '''Paths to data and files'''\n",
    "    survey = '../data/survey_data'\n",
    "    aggregate = 'aggregate_scores.csv'\n",
    "\n",
    "\n",
    "paths = Paths()"
   ]
  },
  {
   "cell_type": "markdown",
   "metadata": {},
   "source": [
    "### Import aggregate scores"
   ]
  },
  {
   "cell_type": "code",
   "execution_count": 3,
   "metadata": {},
   "outputs": [
    {
     "data": {
      "text/html": [
       "<div>\n",
       "<style scoped>\n",
       "    .dataframe tbody tr th:only-of-type {\n",
       "        vertical-align: middle;\n",
       "    }\n",
       "\n",
       "    .dataframe tbody tr th {\n",
       "        vertical-align: top;\n",
       "    }\n",
       "\n",
       "    .dataframe thead th {\n",
       "        text-align: right;\n",
       "    }\n",
       "</style>\n",
       "<table border=\"1\" class=\"dataframe\">\n",
       "  <thead>\n",
       "    <tr style=\"text-align: right;\">\n",
       "      <th></th>\n",
       "      <th>school_lab</th>\n",
       "      <th>variable</th>\n",
       "      <th>mean</th>\n",
       "      <th>count</th>\n",
       "      <th>year_group_lab</th>\n",
       "      <th>gender_lab</th>\n",
       "      <th>fsm_lab</th>\n",
       "      <th>sen_lab</th>\n",
       "    </tr>\n",
       "  </thead>\n",
       "  <tbody>\n",
       "    <tr>\n",
       "      <th>0</th>\n",
       "      <td>School A</td>\n",
       "      <td>birth_you_age_score</td>\n",
       "      <td>7.584112</td>\n",
       "      <td>107.0</td>\n",
       "      <td>All</td>\n",
       "      <td>All</td>\n",
       "      <td>All</td>\n",
       "      <td>All</td>\n",
       "    </tr>\n",
       "    <tr>\n",
       "      <th>1</th>\n",
       "      <td>School B</td>\n",
       "      <td>birth_you_age_score</td>\n",
       "      <td>7.657407</td>\n",
       "      <td>108.0</td>\n",
       "      <td>All</td>\n",
       "      <td>All</td>\n",
       "      <td>All</td>\n",
       "      <td>All</td>\n",
       "    </tr>\n",
       "    <tr>\n",
       "      <th>2</th>\n",
       "      <td>School C</td>\n",
       "      <td>birth_you_age_score</td>\n",
       "      <td>8.510417</td>\n",
       "      <td>96.0</td>\n",
       "      <td>All</td>\n",
       "      <td>All</td>\n",
       "      <td>All</td>\n",
       "      <td>All</td>\n",
       "    </tr>\n",
       "    <tr>\n",
       "      <th>3</th>\n",
       "      <td>School D</td>\n",
       "      <td>birth_you_age_score</td>\n",
       "      <td>7.815789</td>\n",
       "      <td>95.0</td>\n",
       "      <td>All</td>\n",
       "      <td>All</td>\n",
       "      <td>All</td>\n",
       "      <td>All</td>\n",
       "    </tr>\n",
       "    <tr>\n",
       "      <th>4</th>\n",
       "      <td>School E</td>\n",
       "      <td>birth_you_age_score</td>\n",
       "      <td>7.773810</td>\n",
       "      <td>84.0</td>\n",
       "      <td>All</td>\n",
       "      <td>All</td>\n",
       "      <td>All</td>\n",
       "      <td>All</td>\n",
       "    </tr>\n",
       "  </tbody>\n",
       "</table>\n",
       "</div>"
      ],
      "text/plain": [
       "  school_lab             variable      mean  count year_group_lab gender_lab  \\\n",
       "0   School A  birth_you_age_score  7.584112  107.0            All        All   \n",
       "1   School B  birth_you_age_score  7.657407  108.0            All        All   \n",
       "2   School C  birth_you_age_score  8.510417   96.0            All        All   \n",
       "3   School D  birth_you_age_score  7.815789   95.0            All        All   \n",
       "4   School E  birth_you_age_score  7.773810   84.0            All        All   \n",
       "\n",
       "  fsm_lab sen_lab  \n",
       "0     All     All  \n",
       "1     All     All  \n",
       "2     All     All  \n",
       "3     All     All  \n",
       "4     All     All  "
      ]
     },
     "execution_count": 3,
     "metadata": {},
     "output_type": "execute_result"
    }
   ],
   "source": [
    "data = pd.read_csv(os.path.join(paths.survey, paths.aggregate))\n",
    "data.head()"
   ]
  },
  {
   "cell_type": "code",
   "execution_count": 4,
   "metadata": {},
   "outputs": [
    {
     "data": {
      "text/html": [
       "<div>\n",
       "<style scoped>\n",
       "    .dataframe tbody tr th:only-of-type {\n",
       "        vertical-align: middle;\n",
       "    }\n",
       "\n",
       "    .dataframe tbody tr th {\n",
       "        vertical-align: top;\n",
       "    }\n",
       "\n",
       "    .dataframe thead th {\n",
       "        text-align: right;\n",
       "    }\n",
       "</style>\n",
       "<table border=\"1\" class=\"dataframe\">\n",
       "  <thead>\n",
       "    <tr style=\"text-align: right;\">\n",
       "      <th></th>\n",
       "      <th>school_lab</th>\n",
       "      <th>variable</th>\n",
       "      <th>mean</th>\n",
       "      <th>count</th>\n",
       "      <th>year_group_lab</th>\n",
       "      <th>gender_lab</th>\n",
       "      <th>fsm_lab</th>\n",
       "      <th>sen_lab</th>\n",
       "    </tr>\n",
       "  </thead>\n",
       "  <tbody>\n",
       "    <tr>\n",
       "      <th>7</th>\n",
       "      <td>School A</td>\n",
       "      <td>autonomy_score</td>\n",
       "      <td>17.930556</td>\n",
       "      <td>72.0</td>\n",
       "      <td>All</td>\n",
       "      <td>All</td>\n",
       "      <td>All</td>\n",
       "      <td>All</td>\n",
       "    </tr>\n",
       "    <tr>\n",
       "      <th>8</th>\n",
       "      <td>School B</td>\n",
       "      <td>autonomy_score</td>\n",
       "      <td>17.680000</td>\n",
       "      <td>75.0</td>\n",
       "      <td>All</td>\n",
       "      <td>All</td>\n",
       "      <td>All</td>\n",
       "      <td>All</td>\n",
       "    </tr>\n",
       "    <tr>\n",
       "      <th>9</th>\n",
       "      <td>School C</td>\n",
       "      <td>autonomy_score</td>\n",
       "      <td>17.764706</td>\n",
       "      <td>68.0</td>\n",
       "      <td>All</td>\n",
       "      <td>All</td>\n",
       "      <td>All</td>\n",
       "      <td>All</td>\n",
       "    </tr>\n",
       "    <tr>\n",
       "      <th>10</th>\n",
       "      <td>School D</td>\n",
       "      <td>autonomy_score</td>\n",
       "      <td>18.157895</td>\n",
       "      <td>57.0</td>\n",
       "      <td>All</td>\n",
       "      <td>All</td>\n",
       "      <td>All</td>\n",
       "      <td>All</td>\n",
       "    </tr>\n",
       "    <tr>\n",
       "      <th>11</th>\n",
       "      <td>School E</td>\n",
       "      <td>autonomy_score</td>\n",
       "      <td>18.500000</td>\n",
       "      <td>54.0</td>\n",
       "      <td>All</td>\n",
       "      <td>All</td>\n",
       "      <td>All</td>\n",
       "      <td>All</td>\n",
       "    </tr>\n",
       "    <tr>\n",
       "      <th>12</th>\n",
       "      <td>School F</td>\n",
       "      <td>autonomy_score</td>\n",
       "      <td>17.290323</td>\n",
       "      <td>62.0</td>\n",
       "      <td>All</td>\n",
       "      <td>All</td>\n",
       "      <td>All</td>\n",
       "      <td>All</td>\n",
       "    </tr>\n",
       "    <tr>\n",
       "      <th>13</th>\n",
       "      <td>School G</td>\n",
       "      <td>autonomy_score</td>\n",
       "      <td>18.722222</td>\n",
       "      <td>54.0</td>\n",
       "      <td>All</td>\n",
       "      <td>All</td>\n",
       "      <td>All</td>\n",
       "      <td>All</td>\n",
       "    </tr>\n",
       "  </tbody>\n",
       "</table>\n",
       "</div>"
      ],
      "text/plain": [
       "   school_lab        variable       mean  count year_group_lab gender_lab  \\\n",
       "7    School A  autonomy_score  17.930556   72.0            All        All   \n",
       "8    School B  autonomy_score  17.680000   75.0            All        All   \n",
       "9    School C  autonomy_score  17.764706   68.0            All        All   \n",
       "10   School D  autonomy_score  18.157895   57.0            All        All   \n",
       "11   School E  autonomy_score  18.500000   54.0            All        All   \n",
       "12   School F  autonomy_score  17.290323   62.0            All        All   \n",
       "13   School G  autonomy_score  18.722222   54.0            All        All   \n",
       "\n",
       "   fsm_lab sen_lab  \n",
       "7      All     All  \n",
       "8      All     All  \n",
       "9      All     All  \n",
       "10     All     All  \n",
       "11     All     All  \n",
       "12     All     All  \n",
       "13     All     All  "
      ]
     },
     "execution_count": 4,
     "metadata": {},
     "output_type": "execute_result"
    }
   ],
   "source": [
    "test = data[\n",
    "    (data['variable'] == 'autonomy_score') &\n",
    "    (data['year_group_lab'] == 'All') &\n",
    "    (data['gender_lab'] == 'All') &\n",
    "    (data['fsm_lab'] == 'All') &\n",
    "    (data['sen_lab'] == 'All')]\n",
    "test"
   ]
  },
  {
   "cell_type": "code",
   "execution_count": 5,
   "metadata": {},
   "outputs": [
    {
     "data": {
      "text/plain": [
       "12    17.290323\n",
       "8     17.680000\n",
       "9     17.764706\n",
       "7     17.930556\n",
       "10    18.157895\n",
       "11    18.500000\n",
       "13    18.722222\n",
       "Name: mean, dtype: float64"
      ]
     },
     "execution_count": 5,
     "metadata": {},
     "output_type": "execute_result"
    }
   ],
   "source": [
    "test['mean'].sort_values()"
   ]
  },
  {
   "cell_type": "markdown",
   "metadata": {},
   "source": [
    "We find weighted average rather than mean in original raw data, as that is the approach we will use for the benchmarking data (where can't access raw data), so best to be consistent."
   ]
  },
  {
   "cell_type": "markdown",
   "metadata": {},
   "source": [
    "#### Method 1"
   ]
  },
  {
   "cell_type": "code",
   "execution_count": 6,
   "metadata": {},
   "outputs": [],
   "source": [
    "from statsmodels.stats.weightstats import DescrStatsW"
   ]
  },
  {
   "cell_type": "code",
   "execution_count": 7,
   "metadata": {},
   "outputs": [
    {
     "name": "stdout",
     "output_type": "stream",
     "text": [
      "CPU times: user 252 µs, sys: 21 µs, total: 273 µs\n",
      "Wall time: 278 µs\n"
     ]
    }
   ],
   "source": [
    "%%time\n",
    "weighted = DescrStatsW(test['mean'], weights=test['count'], ddof=0)"
   ]
  },
  {
   "cell_type": "code",
   "execution_count": 8,
   "metadata": {},
   "outputs": [
    {
     "name": "stdout",
     "output_type": "stream",
     "text": [
      "17.968325791855204\n",
      "0.4402334195243224\n"
     ]
    }
   ],
   "source": [
    "print(weighted.mean)\n",
    "print(weighted.std)"
   ]
  },
  {
   "cell_type": "markdown",
   "metadata": {},
   "source": [
    "#### Method 2\n",
    "\n",
    "Below is from https://stackoverflow.com/questions/2413522/weighted-standard-deviation-in-numpy\n",
    "\n",
    "It returns the biased variance. For small samples, might want to use unbiased. This answer though is like weighted version of np.std()."
   ]
  },
  {
   "cell_type": "code",
   "execution_count": 9,
   "metadata": {},
   "outputs": [],
   "source": [
    "import math\n",
    "\n",
    "\n",
    "def weighted_avg_and_std(values, weights):\n",
    "    '''\n",
    "    Return the weighted average and standard deviation.\n",
    "    This calculation normalised the weights (so sum=1, and so can't all be 0)\n",
    "\n",
    "    values, weights -- NumPy ndarrays with the same shape.\n",
    "    '''\n",
    "    average = np.average(values, weights=weights)\n",
    "    variance = np.average((values-average)**2, weights=weights)\n",
    "    return (average, math.sqrt(variance))"
   ]
  },
  {
   "cell_type": "code",
   "execution_count": 10,
   "metadata": {},
   "outputs": [
    {
     "name": "stdout",
     "output_type": "stream",
     "text": [
      "CPU times: user 932 µs, sys: 79 µs, total: 1.01 ms\n",
      "Wall time: 1.02 ms\n"
     ]
    }
   ],
   "source": [
    "%%time\n",
    "test_mean, test_sd = weighted_avg_and_std(test['mean'], test['count'])"
   ]
  },
  {
   "cell_type": "code",
   "execution_count": 11,
   "metadata": {},
   "outputs": [
    {
     "data": {
      "text/plain": [
       "(17.968325791855204, 0.4402334195243224)"
      ]
     },
     "execution_count": 11,
     "metadata": {},
     "output_type": "execute_result"
    }
   ],
   "source": [
    "test_mean, test_sd"
   ]
  },
  {
   "cell_type": "markdown",
   "metadata": {},
   "source": [
    "#### Apply mean and SD to find RAG"
   ]
  },
  {
   "cell_type": "code",
   "execution_count": 12,
   "metadata": {},
   "outputs": [
    {
     "name": "stderr",
     "output_type": "stream",
     "text": [
      "/tmp/ipykernel_31959/3634103158.py:10: SettingWithCopyWarning: \n",
      "A value is trying to be set on a copy of a slice from a DataFrame.\n",
      "Try using .loc[row_indexer,col_indexer] = value instead\n",
      "\n",
      "See the caveats in the documentation: https://pandas.pydata.org/pandas-docs/stable/user_guide/indexing.html#returning-a-view-versus-a-copy\n",
      "  test.loc[:, 'rag'] = np.select(conditions, choices, default=np.nan)\n"
     ]
    },
    {
     "data": {
      "text/html": [
       "<div>\n",
       "<style scoped>\n",
       "    .dataframe tbody tr th:only-of-type {\n",
       "        vertical-align: middle;\n",
       "    }\n",
       "\n",
       "    .dataframe tbody tr th {\n",
       "        vertical-align: top;\n",
       "    }\n",
       "\n",
       "    .dataframe thead th {\n",
       "        text-align: right;\n",
       "    }\n",
       "</style>\n",
       "<table border=\"1\" class=\"dataframe\">\n",
       "  <thead>\n",
       "    <tr style=\"text-align: right;\">\n",
       "      <th></th>\n",
       "      <th>school_lab</th>\n",
       "      <th>variable</th>\n",
       "      <th>mean</th>\n",
       "      <th>count</th>\n",
       "      <th>year_group_lab</th>\n",
       "      <th>gender_lab</th>\n",
       "      <th>fsm_lab</th>\n",
       "      <th>sen_lab</th>\n",
       "      <th>rag</th>\n",
       "    </tr>\n",
       "  </thead>\n",
       "  <tbody>\n",
       "    <tr>\n",
       "      <th>7</th>\n",
       "      <td>School A</td>\n",
       "      <td>autonomy_score</td>\n",
       "      <td>17.930556</td>\n",
       "      <td>72.0</td>\n",
       "      <td>All</td>\n",
       "      <td>All</td>\n",
       "      <td>All</td>\n",
       "      <td>All</td>\n",
       "      <td>average</td>\n",
       "    </tr>\n",
       "    <tr>\n",
       "      <th>8</th>\n",
       "      <td>School B</td>\n",
       "      <td>autonomy_score</td>\n",
       "      <td>17.680000</td>\n",
       "      <td>75.0</td>\n",
       "      <td>All</td>\n",
       "      <td>All</td>\n",
       "      <td>All</td>\n",
       "      <td>All</td>\n",
       "      <td>average</td>\n",
       "    </tr>\n",
       "    <tr>\n",
       "      <th>9</th>\n",
       "      <td>School C</td>\n",
       "      <td>autonomy_score</td>\n",
       "      <td>17.764706</td>\n",
       "      <td>68.0</td>\n",
       "      <td>All</td>\n",
       "      <td>All</td>\n",
       "      <td>All</td>\n",
       "      <td>All</td>\n",
       "      <td>average</td>\n",
       "    </tr>\n",
       "    <tr>\n",
       "      <th>10</th>\n",
       "      <td>School D</td>\n",
       "      <td>autonomy_score</td>\n",
       "      <td>18.157895</td>\n",
       "      <td>57.0</td>\n",
       "      <td>All</td>\n",
       "      <td>All</td>\n",
       "      <td>All</td>\n",
       "      <td>All</td>\n",
       "      <td>average</td>\n",
       "    </tr>\n",
       "    <tr>\n",
       "      <th>11</th>\n",
       "      <td>School E</td>\n",
       "      <td>autonomy_score</td>\n",
       "      <td>18.500000</td>\n",
       "      <td>54.0</td>\n",
       "      <td>All</td>\n",
       "      <td>All</td>\n",
       "      <td>All</td>\n",
       "      <td>All</td>\n",
       "      <td>above</td>\n",
       "    </tr>\n",
       "    <tr>\n",
       "      <th>12</th>\n",
       "      <td>School F</td>\n",
       "      <td>autonomy_score</td>\n",
       "      <td>17.290323</td>\n",
       "      <td>62.0</td>\n",
       "      <td>All</td>\n",
       "      <td>All</td>\n",
       "      <td>All</td>\n",
       "      <td>All</td>\n",
       "      <td>below</td>\n",
       "    </tr>\n",
       "    <tr>\n",
       "      <th>13</th>\n",
       "      <td>School G</td>\n",
       "      <td>autonomy_score</td>\n",
       "      <td>18.722222</td>\n",
       "      <td>54.0</td>\n",
       "      <td>All</td>\n",
       "      <td>All</td>\n",
       "      <td>All</td>\n",
       "      <td>All</td>\n",
       "      <td>above</td>\n",
       "    </tr>\n",
       "  </tbody>\n",
       "</table>\n",
       "</div>"
      ],
      "text/plain": [
       "   school_lab        variable       mean  count year_group_lab gender_lab  \\\n",
       "7    School A  autonomy_score  17.930556   72.0            All        All   \n",
       "8    School B  autonomy_score  17.680000   75.0            All        All   \n",
       "9    School C  autonomy_score  17.764706   68.0            All        All   \n",
       "10   School D  autonomy_score  18.157895   57.0            All        All   \n",
       "11   School E  autonomy_score  18.500000   54.0            All        All   \n",
       "12   School F  autonomy_score  17.290323   62.0            All        All   \n",
       "13   School G  autonomy_score  18.722222   54.0            All        All   \n",
       "\n",
       "   fsm_lab sen_lab      rag  \n",
       "7      All     All  average  \n",
       "8      All     All  average  \n",
       "9      All     All  average  \n",
       "10     All     All  average  \n",
       "11     All     All    above  \n",
       "12     All     All    below  \n",
       "13     All     All    above  "
      ]
     },
     "execution_count": 12,
     "metadata": {},
     "output_type": "execute_result"
    }
   ],
   "source": [
    "# Find 1 SD above and below the mean\n",
    "lower_boundary = test_mean - test_sd\n",
    "upper_boundary = test_mean + test_sd\n",
    "\n",
    "# Populate rag depending on whether more than 1SD from the mean\n",
    "conditions = [(test['mean'] <= lower_boundary),\n",
    "              (test['mean'] > lower_boundary) & (test['mean'] < upper_boundary),\n",
    "              (test['mean'] >= upper_boundary)]\n",
    "choices = ['below', 'average', 'above']\n",
    "test.loc[:, 'rag'] = np.select(conditions, choices, default=np.nan)\n",
    "test"
   ]
  },
  {
   "cell_type": "code",
   "execution_count": 13,
   "metadata": {},
   "outputs": [
    {
     "data": {
      "text/plain": [
       "<matplotlib.patches.Polygon at 0x7f81f7dacdf0>"
      ]
     },
     "execution_count": 13,
     "metadata": {},
     "output_type": "execute_result"
    },
    {
     "data": {
      "image/png": "[encoded data removed]",
      "text/plain": [
       "<Figure size 600x300 with 1 Axes>"
      ]
     },
     "metadata": {},
     "output_type": "display_data"
    }
   ],
   "source": [
    "import matplotlib.pyplot as plt\n",
    "\n",
    "# Sort by mean value\n",
    "test_order = test.sort_values(by='mean')\n",
    "\n",
    "# Find y axis limits\n",
    "ymin = math.floor(test_order['mean'].min())\n",
    "ymax = math.ceil(test_order['mean'].max())\n",
    "\n",
    "fig, ax = plt.subplots(figsize=(6,3))\n",
    "\n",
    "ax.bar(test_order['school_lab'], test_order['mean'], zorder=2)\n",
    "plt.ylim(ymin, ymax)\n",
    "\n",
    "plt.axhline(y=lower_boundary)\n",
    "plt.axhline(y=upper_boundary)\n",
    "\n",
    "ax.axhspan(ymin, lower_boundary, facecolor='red', alpha=0.5)\n",
    "ax.axhspan(lower_boundary, upper_boundary, facecolor='yellow', alpha=0.5)\n",
    "ax.axhspan(upper_boundary, ymax, facecolor='green', alpha=0.5)"
   ]
  }
 ],
 "metadata": {
  "kernelspec": {
   "display_name": "kailo_dashboards",
   "language": "python",
   "name": "python3"
  },
  "language_info": {
   "codemirror_mode": {
    "name": "ipython",
    "version": 3
   },
   "file_extension": ".py",
   "mimetype": "text/x-python",
   "name": "python",
   "nbconvert_exporter": "python",
   "pygments_lexer": "ipython3",
   "version": "3.10.6"
  }
 },
 "nbformat": 4,
 "nbformat_minor": 2
}
