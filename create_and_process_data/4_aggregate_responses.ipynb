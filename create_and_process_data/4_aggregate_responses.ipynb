{
 "cells": [
  {
   "cell_type": "markdown",
   "metadata": {},
   "source": [
    "# Aggregate responses\n",
    "\n",
    "Aggregate the synthetic person-level data to find the proportion who gave each response to each question."
   ]
  },
  {
   "cell_type": "markdown",
   "metadata": {},
   "source": [
    "## Set-up"
   ]
  },
  {
   "cell_type": "markdown",
   "metadata": {},
   "source": [
    "### Packages and file paths"
   ]
  },
  {
   "cell_type": "code",
   "execution_count": 1,
   "metadata": {},
   "outputs": [],
   "source": [
    "# Import required packages\n",
    "from dataclasses import dataclass\n",
    "import numpy as np\n",
    "import os\n",
    "import pandas as pd"
   ]
  },
  {
   "cell_type": "code",
   "execution_count": 2,
   "metadata": {},
   "outputs": [],
   "source": [
    "# File paths\n",
    "@dataclass(frozen=True)\n",
    "class Paths:\n",
    "    '''Stores paths to data and files'''\n",
    "    survey = '../data/survey_data'\n",
    "    synthetic_data = 'synthetic_data_raw.csv'\n",
    "    aggregate = 'aggregate_responses.csv'\n",
    "\n",
    "\n",
    "paths = Paths()"
   ]
  },
  {
   "cell_type": "markdown",
   "metadata": {},
   "source": [
    "### Import raw data"
   ]
  },
  {
   "cell_type": "code",
   "execution_count": 3,
   "metadata": {},
   "outputs": [
    {
     "data": {
      "text/html": [
       "<div>\n",
       "<style scoped>\n",
       "    .dataframe tbody tr th:only-of-type {\n",
       "        vertical-align: middle;\n",
       "    }\n",
       "\n",
       "    .dataframe tbody tr th {\n",
       "        vertical-align: top;\n",
       "    }\n",
       "\n",
       "    .dataframe thead th {\n",
       "        text-align: right;\n",
       "    }\n",
       "</style>\n",
       "<table border=\"1\" class=\"dataframe\">\n",
       "  <thead>\n",
       "    <tr style=\"text-align: right;\">\n",
       "      <th></th>\n",
       "      <th>gender</th>\n",
       "      <th>transgender</th>\n",
       "      <th>sexual_orientation</th>\n",
       "      <th>neurodivergent</th>\n",
       "      <th>birth_parent1</th>\n",
       "      <th>birth_parent2</th>\n",
       "      <th>birth_you</th>\n",
       "      <th>birth_you_age</th>\n",
       "      <th>autonomy_pressure</th>\n",
       "      <th>autonomy_express</th>\n",
       "      <th>...</th>\n",
       "      <th>peer_talk_listen_lab</th>\n",
       "      <th>peer_talk_helpful_lab</th>\n",
       "      <th>peer_talk_if_lab</th>\n",
       "      <th>accept_peer_lab</th>\n",
       "      <th>year_group_lab</th>\n",
       "      <th>fsm_lab</th>\n",
       "      <th>sen_lab</th>\n",
       "      <th>ethnicity_lab</th>\n",
       "      <th>english_additional_lab</th>\n",
       "      <th>school_lab</th>\n",
       "    </tr>\n",
       "  </thead>\n",
       "  <tbody>\n",
       "    <tr>\n",
       "      <th>0</th>\n",
       "      <td>4.0</td>\n",
       "      <td>2.0</td>\n",
       "      <td>6.0</td>\n",
       "      <td>3.0</td>\n",
       "      <td>2.0</td>\n",
       "      <td>1.0</td>\n",
       "      <td>2.0</td>\n",
       "      <td>1.0</td>\n",
       "      <td>NaN</td>\n",
       "      <td>5.0</td>\n",
       "      <td>...</td>\n",
       "      <td>Fully</td>\n",
       "      <td>Somewhat helpful</td>\n",
       "      <td>Very uncomfortable</td>\n",
       "      <td>Not at all</td>\n",
       "      <td>Year 10</td>\n",
       "      <td>Non-FSM</td>\n",
       "      <td>Non-SEN</td>\n",
       "      <td>Ethnic minority</td>\n",
       "      <td>No</td>\n",
       "      <td>School E</td>\n",
       "    </tr>\n",
       "    <tr>\n",
       "      <th>1</th>\n",
       "      <td>1.0</td>\n",
       "      <td>2.0</td>\n",
       "      <td>1.0</td>\n",
       "      <td>3.0</td>\n",
       "      <td>3.0</td>\n",
       "      <td>2.0</td>\n",
       "      <td>3.0</td>\n",
       "      <td>8.0</td>\n",
       "      <td>4.0</td>\n",
       "      <td>2.0</td>\n",
       "      <td>...</td>\n",
       "      <td>Mostly</td>\n",
       "      <td>Very helpful</td>\n",
       "      <td>Very uncomfortable</td>\n",
       "      <td>Slightly</td>\n",
       "      <td>Year 10</td>\n",
       "      <td>Non-FSM</td>\n",
       "      <td>Non-SEN</td>\n",
       "      <td>Ethnic minority</td>\n",
       "      <td>No</td>\n",
       "      <td>NaN</td>\n",
       "    </tr>\n",
       "    <tr>\n",
       "      <th>2</th>\n",
       "      <td>2.0</td>\n",
       "      <td>NaN</td>\n",
       "      <td>4.0</td>\n",
       "      <td>NaN</td>\n",
       "      <td>NaN</td>\n",
       "      <td>1.0</td>\n",
       "      <td>1.0</td>\n",
       "      <td>1.0</td>\n",
       "      <td>5.0</td>\n",
       "      <td>4.0</td>\n",
       "      <td>...</td>\n",
       "      <td>NaN</td>\n",
       "      <td>Very helpful</td>\n",
       "      <td>Very comfortable</td>\n",
       "      <td>Not at all</td>\n",
       "      <td>Year 10</td>\n",
       "      <td>Non-FSM</td>\n",
       "      <td>Non-SEN</td>\n",
       "      <td>White British</td>\n",
       "      <td>No</td>\n",
       "      <td>School E</td>\n",
       "    </tr>\n",
       "    <tr>\n",
       "      <th>3</th>\n",
       "      <td>2.0</td>\n",
       "      <td>5.0</td>\n",
       "      <td>5.0</td>\n",
       "      <td>2.0</td>\n",
       "      <td>2.0</td>\n",
       "      <td>2.0</td>\n",
       "      <td>1.0</td>\n",
       "      <td>3.0</td>\n",
       "      <td>NaN</td>\n",
       "      <td>2.0</td>\n",
       "      <td>...</td>\n",
       "      <td>Fully</td>\n",
       "      <td>Somewhat helpful</td>\n",
       "      <td>Uncomfortable</td>\n",
       "      <td>Mostly</td>\n",
       "      <td>Year 10</td>\n",
       "      <td>Non-FSM</td>\n",
       "      <td>Non-SEN</td>\n",
       "      <td>White British</td>\n",
       "      <td>No</td>\n",
       "      <td>School G</td>\n",
       "    </tr>\n",
       "    <tr>\n",
       "      <th>4</th>\n",
       "      <td>5.0</td>\n",
       "      <td>3.0</td>\n",
       "      <td>4.0</td>\n",
       "      <td>1.0</td>\n",
       "      <td>1.0</td>\n",
       "      <td>3.0</td>\n",
       "      <td>3.0</td>\n",
       "      <td>2.0</td>\n",
       "      <td>5.0</td>\n",
       "      <td>2.0</td>\n",
       "      <td>...</td>\n",
       "      <td>Slightly</td>\n",
       "      <td>Somewhat helpful</td>\n",
       "      <td>Uncomfortable</td>\n",
       "      <td>Not at all</td>\n",
       "      <td>Year 8</td>\n",
       "      <td>Non-FSM</td>\n",
       "      <td>Non-SEN</td>\n",
       "      <td>NaN</td>\n",
       "      <td>Yes</td>\n",
       "      <td>School B</td>\n",
       "    </tr>\n",
       "  </tbody>\n",
       "</table>\n",
       "<p>5 rows × 281 columns</p>\n",
       "</div>"
      ],
      "text/plain": [
       "   gender  transgender  sexual_orientation  neurodivergent  birth_parent1  \\\n",
       "0     4.0          2.0                 6.0             3.0            2.0   \n",
       "1     1.0          2.0                 1.0             3.0            3.0   \n",
       "2     2.0          NaN                 4.0             NaN            NaN   \n",
       "3     2.0          5.0                 5.0             2.0            2.0   \n",
       "4     5.0          3.0                 4.0             1.0            1.0   \n",
       "\n",
       "   birth_parent2  birth_you  birth_you_age  autonomy_pressure  \\\n",
       "0            1.0        2.0            1.0                NaN   \n",
       "1            2.0        3.0            8.0                4.0   \n",
       "2            1.0        1.0            1.0                5.0   \n",
       "3            2.0        1.0            3.0                NaN   \n",
       "4            3.0        3.0            2.0                5.0   \n",
       "\n",
       "   autonomy_express  ...  peer_talk_listen_lab  peer_talk_helpful_lab  \\\n",
       "0               5.0  ...                 Fully       Somewhat helpful   \n",
       "1               2.0  ...                Mostly           Very helpful   \n",
       "2               4.0  ...                   NaN           Very helpful   \n",
       "3               2.0  ...                 Fully       Somewhat helpful   \n",
       "4               2.0  ...              Slightly       Somewhat helpful   \n",
       "\n",
       "     peer_talk_if_lab  accept_peer_lab  year_group_lab  fsm_lab  sen_lab  \\\n",
       "0  Very uncomfortable       Not at all         Year 10  Non-FSM  Non-SEN   \n",
       "1  Very uncomfortable         Slightly         Year 10  Non-FSM  Non-SEN   \n",
       "2    Very comfortable       Not at all         Year 10  Non-FSM  Non-SEN   \n",
       "3       Uncomfortable           Mostly         Year 10  Non-FSM  Non-SEN   \n",
       "4       Uncomfortable       Not at all          Year 8  Non-FSM  Non-SEN   \n",
       "\n",
       "     ethnicity_lab  english_additional_lab  school_lab  \n",
       "0  Ethnic minority                      No    School E  \n",
       "1  Ethnic minority                      No         NaN  \n",
       "2    White British                      No    School E  \n",
       "3    White British                      No    School G  \n",
       "4              NaN                     Yes    School B  \n",
       "\n",
       "[5 rows x 281 columns]"
      ]
     },
     "execution_count": 3,
     "metadata": {},
     "output_type": "execute_result"
    }
   ],
   "source": [
    "data = pd.read_csv(os.path.join(paths.survey, paths.synthetic_data))\n",
    "data.head()"
   ]
  },
  {
   "cell_type": "code",
   "execution_count": 4,
   "metadata": {},
   "outputs": [
    {
     "data": {
      "text/plain": [
       "Index(['gender', 'transgender', 'sexual_orientation', 'neurodivergent',\n",
       "       'birth_parent1', 'birth_parent2', 'birth_you', 'birth_you_age',\n",
       "       'autonomy_pressure', 'autonomy_express',\n",
       "       ...\n",
       "       'peer_talk_listen_lab', 'peer_talk_helpful_lab', 'peer_talk_if_lab',\n",
       "       'accept_peer_lab', 'year_group_lab', 'fsm_lab', 'sen_lab',\n",
       "       'ethnicity_lab', 'english_additional_lab', 'school_lab'],\n",
       "      dtype='object', length=281)"
      ]
     },
     "execution_count": 4,
     "metadata": {},
     "output_type": "execute_result"
    }
   ],
   "source": [
    "data.columns"
   ]
  },
  {
   "cell_type": "markdown",
   "metadata": {},
   "source": [
    "## Find the proportion giving each response to each measure, within a given group"
   ]
  },
  {
   "cell_type": "code",
   "execution_count": 5,
   "metadata": {},
   "outputs": [],
   "source": [
    "# Find columns that we want to count responses for\n",
    "response_col = [col for col in data.columns if col.endswith('_lab')]\n",
    "response_col.remove('school_lab')\n",
    "\n",
    "\n",
    "def aggregate(dataset):\n",
    "    '''\n",
    "    Aggregates a given column by finding the proportion giving each answer\n",
    "    for that column\n",
    "    Inputs:\n",
    "    - dataset - dataframe, to use for operation\n",
    "    '''\n",
    "    # Initialise list to store the counts for each measure\n",
    "    responses = []\n",
    "\n",
    "    # Look through each of the columns of interest\n",
    "    for col in response_col:\n",
    "\n",
    "        # Find the name of the numeric version of the column, then filter\n",
    "        # to just the column and it's numeric version\n",
    "        numeric = col.replace('_lab', '')\n",
    "\n",
    "        # Count the number of pupils with each response for that column\n",
    "        # Then convert to percentages\n",
    "        df = dataset[[numeric, col]].value_counts(dropna=False).reset_index(name='count')\n",
    "        df[col] = df[col].fillna('Missing')\n",
    "        df['percentage'] = round((df['count'] / df['count'].sum()) * 100, 1)\n",
    "\n",
    "        # Reformat dataframe, sorting by the numeric version of the column,\n",
    "        # and renaming the categories with generic name\n",
    "        df = df.sort_values(by=numeric)\n",
    "        df = df.rename(columns={\n",
    "            numeric: 'cat',\n",
    "            col: 'cat_lab'})\n",
    "\n",
    "        # Convert to series with each column as array and add name of measure\n",
    "        series = pd.Series(df.to_dict(orient='list'))\n",
    "        series['measure'] = numeric\n",
    "\n",
    "        # Count number of non-NaN responses for that column\n",
    "        series['n_responses'] = dataset[numeric].count()\n",
    "\n",
    "        # Append to list\n",
    "        responses.append(series.to_frame().T)\n",
    "    \n",
    "    # Combine into a single dataframe and return\n",
    "    return(pd.concat(responses))"
   ]
  },
  {
   "cell_type": "code",
   "execution_count": 6,
   "metadata": {},
   "outputs": [
    {
     "data": {
      "text/plain": [
       "[['school_lab'],\n",
       " ['school_lab', 'year_group_lab'],\n",
       " ['school_lab', 'gender_lab'],\n",
       " ['school_lab', 'fsm_lab'],\n",
       " ['school_lab', 'sen_lab']]"
      ]
     },
     "execution_count": 6,
     "metadata": {},
     "output_type": "execute_result"
    }
   ],
   "source": [
    "# Create the groups - school alone or combined with a filter\n",
    "groups = [['school_lab']]\n",
    "filters = ['year_group_lab', 'gender_lab', 'fsm_lab', 'sen_lab']\n",
    "for group in filters:\n",
    "    groups.append(['school_lab'] + [group])\n",
    "groups"
   ]
  },
  {
   "cell_type": "code",
   "execution_count": 7,
   "metadata": {},
   "outputs": [],
   "source": [
    "res_list = []\n",
    "\n",
    "# For each of the grouping methods\n",
    "for grouping in groups:\n",
    "    # Group the dataframe and loop through those subsets of the dataframe\n",
    "    for group_name, df_group in data.groupby(grouping):\n",
    "        # Perform aggregation\n",
    "        res = aggregate(df_group)\n",
    "        # Save name of group for that filter (e.g. school = school A)\n",
    "        for i in range(len(grouping)):\n",
    "            res[grouping[i]] = group_name[i]\n",
    "        # Append result to list\n",
    "        res_list.append(res)\n",
    "\n",
    "# Combine results from list into a single dataframe\n",
    "result = pd.concat(res_list)"
   ]
  },
  {
   "cell_type": "code",
   "execution_count": 8,
   "metadata": {},
   "outputs": [],
   "source": [
    "# Set NaN for the filter labs as All\n",
    "result[filters] = result[filters].fillna('All')"
   ]
  },
  {
   "cell_type": "code",
   "execution_count": 9,
   "metadata": {},
   "outputs": [],
   "source": [
    "# Hide results where n<10\n",
    "result.loc[result['n_responses'] < 10, ['count', 'percentage', 'n_responses']] = np.nan"
   ]
  },
  {
   "cell_type": "code",
   "execution_count": 10,
   "metadata": {},
   "outputs": [
    {
     "data": {
      "text/html": [
       "<div>\n",
       "<style scoped>\n",
       "    .dataframe tbody tr th:only-of-type {\n",
       "        vertical-align: middle;\n",
       "    }\n",
       "\n",
       "    .dataframe tbody tr th {\n",
       "        vertical-align: top;\n",
       "    }\n",
       "\n",
       "    .dataframe thead th {\n",
       "        text-align: right;\n",
       "    }\n",
       "</style>\n",
       "<table border=\"1\" class=\"dataframe\">\n",
       "  <thead>\n",
       "    <tr style=\"text-align: right;\">\n",
       "      <th></th>\n",
       "      <th>cat</th>\n",
       "      <th>cat_lab</th>\n",
       "      <th>count</th>\n",
       "      <th>percentage</th>\n",
       "      <th>measure</th>\n",
       "      <th>n_responses</th>\n",
       "      <th>school_lab</th>\n",
       "      <th>year_group_lab</th>\n",
       "      <th>gender_lab</th>\n",
       "      <th>fsm_lab</th>\n",
       "      <th>sen_lab</th>\n",
       "    </tr>\n",
       "  </thead>\n",
       "  <tbody>\n",
       "    <tr>\n",
       "      <th>0</th>\n",
       "      <td>[1.0, 2.0, 3.0, 4.0, 5.0, 6.0, nan]</td>\n",
       "      <td>[Girl, Boy, Non-binary, I describe myself in a...</td>\n",
       "      <td>[14, 24, 18, 17, 12, 16, 11]</td>\n",
       "      <td>[12.5, 21.4, 16.1, 15.2, 10.7, 14.3, 9.8]</td>\n",
       "      <td>gender</td>\n",
       "      <td>101</td>\n",
       "      <td>School A</td>\n",
       "      <td>All</td>\n",
       "      <td>All</td>\n",
       "      <td>All</td>\n",
       "      <td>All</td>\n",
       "    </tr>\n",
       "    <tr>\n",
       "      <th>0</th>\n",
       "      <td>[1.0, 2.0, 3.0, 4.0, 5.0, nan]</td>\n",
       "      <td>[Yes, No, Prefer not to say, I describe myself...</td>\n",
       "      <td>[23, 16, 14, 25, 27, 7]</td>\n",
       "      <td>[20.5, 14.3, 12.5, 22.3, 24.1, 6.2]</td>\n",
       "      <td>transgender</td>\n",
       "      <td>105</td>\n",
       "      <td>School A</td>\n",
       "      <td>All</td>\n",
       "      <td>All</td>\n",
       "      <td>All</td>\n",
       "      <td>All</td>\n",
       "    </tr>\n",
       "    <tr>\n",
       "      <th>0</th>\n",
       "      <td>[1.0, 2.0, 3.0, 4.0, 5.0, 6.0, nan]</td>\n",
       "      <td>[Bi/pansexual, Gay/lesbian, Heterosexual/strai...</td>\n",
       "      <td>[14, 23, 12, 18, 27, 15, 3]</td>\n",
       "      <td>[12.5, 20.5, 10.7, 16.1, 24.1, 13.4, 2.7]</td>\n",
       "      <td>sexual_orientation</td>\n",
       "      <td>109</td>\n",
       "      <td>School A</td>\n",
       "      <td>All</td>\n",
       "      <td>All</td>\n",
       "      <td>All</td>\n",
       "      <td>All</td>\n",
       "    </tr>\n",
       "    <tr>\n",
       "      <th>0</th>\n",
       "      <td>[1.0, 2.0, 3.0, nan]</td>\n",
       "      <td>[Yes, No, Unsure, Missing]</td>\n",
       "      <td>[42, 29, 30, 11]</td>\n",
       "      <td>[37.5, 25.9, 26.8, 9.8]</td>\n",
       "      <td>neurodivergent</td>\n",
       "      <td>101</td>\n",
       "      <td>School A</td>\n",
       "      <td>All</td>\n",
       "      <td>All</td>\n",
       "      <td>All</td>\n",
       "      <td>All</td>\n",
       "    </tr>\n",
       "    <tr>\n",
       "      <th>0</th>\n",
       "      <td>[1.0, 2.0, 3.0, nan]</td>\n",
       "      <td>[Yes, No, I don't know, Missing]</td>\n",
       "      <td>[35, 40, 34, 3]</td>\n",
       "      <td>[31.2, 35.7, 30.4, 2.7]</td>\n",
       "      <td>birth_parent1</td>\n",
       "      <td>109</td>\n",
       "      <td>School A</td>\n",
       "      <td>All</td>\n",
       "      <td>All</td>\n",
       "      <td>All</td>\n",
       "      <td>All</td>\n",
       "    </tr>\n",
       "    <tr>\n",
       "      <th>...</th>\n",
       "      <td>...</td>\n",
       "      <td>...</td>\n",
       "      <td>...</td>\n",
       "      <td>...</td>\n",
       "      <td>...</td>\n",
       "      <td>...</td>\n",
       "      <td>...</td>\n",
       "      <td>...</td>\n",
       "      <td>...</td>\n",
       "      <td>...</td>\n",
       "      <td>...</td>\n",
       "    </tr>\n",
       "    <tr>\n",
       "      <th>0</th>\n",
       "      <td>[8.0, 10.0]</td>\n",
       "      <td>[Year 8, Year 10]</td>\n",
       "      <td>[22, 19]</td>\n",
       "      <td>[53.7, 46.3]</td>\n",
       "      <td>year_group</td>\n",
       "      <td>41</td>\n",
       "      <td>School G</td>\n",
       "      <td>All</td>\n",
       "      <td>All</td>\n",
       "      <td>All</td>\n",
       "      <td>SEN</td>\n",
       "    </tr>\n",
       "    <tr>\n",
       "      <th>0</th>\n",
       "      <td>[0.0, 1.0, nan]</td>\n",
       "      <td>[Non-FSM, FSM, Missing]</td>\n",
       "      <td>[14, 25, 2]</td>\n",
       "      <td>[34.1, 61.0, 4.9]</td>\n",
       "      <td>fsm</td>\n",
       "      <td>39</td>\n",
       "      <td>School G</td>\n",
       "      <td>All</td>\n",
       "      <td>All</td>\n",
       "      <td>All</td>\n",
       "      <td>SEN</td>\n",
       "    </tr>\n",
       "    <tr>\n",
       "      <th>0</th>\n",
       "      <td>[1.0]</td>\n",
       "      <td>[SEN]</td>\n",
       "      <td>[41]</td>\n",
       "      <td>[100.0]</td>\n",
       "      <td>sen</td>\n",
       "      <td>41</td>\n",
       "      <td>School G</td>\n",
       "      <td>All</td>\n",
       "      <td>All</td>\n",
       "      <td>All</td>\n",
       "      <td>SEN</td>\n",
       "    </tr>\n",
       "    <tr>\n",
       "      <th>0</th>\n",
       "      <td>[1.0, 2.0, nan]</td>\n",
       "      <td>[Ethnic minority, White British, Missing]</td>\n",
       "      <td>[12, 24, 5]</td>\n",
       "      <td>[29.3, 58.5, 12.2]</td>\n",
       "      <td>ethnicity</td>\n",
       "      <td>36</td>\n",
       "      <td>School G</td>\n",
       "      <td>All</td>\n",
       "      <td>All</td>\n",
       "      <td>All</td>\n",
       "      <td>SEN</td>\n",
       "    </tr>\n",
       "    <tr>\n",
       "      <th>0</th>\n",
       "      <td>[0.0, 1.0, nan]</td>\n",
       "      <td>[No, Yes, Missing]</td>\n",
       "      <td>[21, 19, 1]</td>\n",
       "      <td>[51.2, 46.3, 2.4]</td>\n",
       "      <td>english_additional</td>\n",
       "      <td>40</td>\n",
       "      <td>School G</td>\n",
       "      <td>All</td>\n",
       "      <td>All</td>\n",
       "      <td>All</td>\n",
       "      <td>SEN</td>\n",
       "    </tr>\n",
       "  </tbody>\n",
       "</table>\n",
       "<p>10769 rows × 11 columns</p>\n",
       "</div>"
      ],
      "text/plain": [
       "                                    cat  \\\n",
       "0   [1.0, 2.0, 3.0, 4.0, 5.0, 6.0, nan]   \n",
       "0        [1.0, 2.0, 3.0, 4.0, 5.0, nan]   \n",
       "0   [1.0, 2.0, 3.0, 4.0, 5.0, 6.0, nan]   \n",
       "0                  [1.0, 2.0, 3.0, nan]   \n",
       "0                  [1.0, 2.0, 3.0, nan]   \n",
       "..                                  ...   \n",
       "0                           [8.0, 10.0]   \n",
       "0                       [0.0, 1.0, nan]   \n",
       "0                                 [1.0]   \n",
       "0                       [1.0, 2.0, nan]   \n",
       "0                       [0.0, 1.0, nan]   \n",
       "\n",
       "                                              cat_lab  \\\n",
       "0   [Girl, Boy, Non-binary, I describe myself in a...   \n",
       "0   [Yes, No, Prefer not to say, I describe myself...   \n",
       "0   [Bi/pansexual, Gay/lesbian, Heterosexual/strai...   \n",
       "0                          [Yes, No, Unsure, Missing]   \n",
       "0                    [Yes, No, I don't know, Missing]   \n",
       "..                                                ...   \n",
       "0                                   [Year 8, Year 10]   \n",
       "0                             [Non-FSM, FSM, Missing]   \n",
       "0                                               [SEN]   \n",
       "0           [Ethnic minority, White British, Missing]   \n",
       "0                                  [No, Yes, Missing]   \n",
       "\n",
       "                           count                                 percentage  \\\n",
       "0   [14, 24, 18, 17, 12, 16, 11]  [12.5, 21.4, 16.1, 15.2, 10.7, 14.3, 9.8]   \n",
       "0        [23, 16, 14, 25, 27, 7]        [20.5, 14.3, 12.5, 22.3, 24.1, 6.2]   \n",
       "0    [14, 23, 12, 18, 27, 15, 3]  [12.5, 20.5, 10.7, 16.1, 24.1, 13.4, 2.7]   \n",
       "0               [42, 29, 30, 11]                    [37.5, 25.9, 26.8, 9.8]   \n",
       "0                [35, 40, 34, 3]                    [31.2, 35.7, 30.4, 2.7]   \n",
       "..                           ...                                        ...   \n",
       "0                       [22, 19]                               [53.7, 46.3]   \n",
       "0                    [14, 25, 2]                          [34.1, 61.0, 4.9]   \n",
       "0                           [41]                                    [100.0]   \n",
       "0                    [12, 24, 5]                         [29.3, 58.5, 12.2]   \n",
       "0                    [21, 19, 1]                          [51.2, 46.3, 2.4]   \n",
       "\n",
       "               measure n_responses school_lab year_group_lab gender_lab  \\\n",
       "0               gender         101   School A            All        All   \n",
       "0          transgender         105   School A            All        All   \n",
       "0   sexual_orientation         109   School A            All        All   \n",
       "0       neurodivergent         101   School A            All        All   \n",
       "0        birth_parent1         109   School A            All        All   \n",
       "..                 ...         ...        ...            ...        ...   \n",
       "0           year_group          41   School G            All        All   \n",
       "0                  fsm          39   School G            All        All   \n",
       "0                  sen          41   School G            All        All   \n",
       "0            ethnicity          36   School G            All        All   \n",
       "0   english_additional          40   School G            All        All   \n",
       "\n",
       "   fsm_lab sen_lab  \n",
       "0      All     All  \n",
       "0      All     All  \n",
       "0      All     All  \n",
       "0      All     All  \n",
       "0      All     All  \n",
       "..     ...     ...  \n",
       "0      All     SEN  \n",
       "0      All     SEN  \n",
       "0      All     SEN  \n",
       "0      All     SEN  \n",
       "0      All     SEN  \n",
       "\n",
       "[10769 rows x 11 columns]"
      ]
     },
     "execution_count": 10,
     "metadata": {},
     "output_type": "execute_result"
    }
   ],
   "source": [
    "# Preview dataframe\n",
    "result"
   ]
  },
  {
   "cell_type": "markdown",
   "metadata": {},
   "source": [
    "## Save to csv"
   ]
  },
  {
   "cell_type": "code",
   "execution_count": 11,
   "metadata": {},
   "outputs": [],
   "source": [
    "result.to_csv(os.path.join(paths.survey, paths.aggregate), index=False)"
   ]
  },
  {
   "cell_type": "markdown",
   "metadata": {},
   "source": [
    "## Try plotting from that data\n",
    "\n",
    "This will not be kept here - but here in the first instance as a test case that the formatting used in aggregation is alright to deal with.\n",
    "\n",
    "We want to produce a dataframe where each row has a cat_lab, a percent, a measure and a count\n",
    "\n",
    "<mark>Look at whether the way GM stored their data would allow more efficient extraction</mark>"
   ]
  },
  {
   "cell_type": "code",
   "execution_count": 12,
   "metadata": {},
   "outputs": [],
   "source": [
    "from ast import literal_eval\n",
    "import plotly.express as px"
   ]
  },
  {
   "cell_type": "code",
   "execution_count": 13,
   "metadata": {},
   "outputs": [
    {
     "data": {
      "text/html": [
       "<div>\n",
       "<style scoped>\n",
       "    .dataframe tbody tr th:only-of-type {\n",
       "        vertical-align: middle;\n",
       "    }\n",
       "\n",
       "    .dataframe tbody tr th {\n",
       "        vertical-align: top;\n",
       "    }\n",
       "\n",
       "    .dataframe thead th {\n",
       "        text-align: right;\n",
       "    }\n",
       "</style>\n",
       "<table border=\"1\" class=\"dataframe\">\n",
       "  <thead>\n",
       "    <tr style=\"text-align: right;\">\n",
       "      <th></th>\n",
       "      <th>cat</th>\n",
       "      <th>cat_lab</th>\n",
       "      <th>count</th>\n",
       "      <th>percentage</th>\n",
       "      <th>measure</th>\n",
       "      <th>n_responses</th>\n",
       "      <th>school_lab</th>\n",
       "      <th>year_group_lab</th>\n",
       "      <th>gender_lab</th>\n",
       "      <th>fsm_lab</th>\n",
       "      <th>sen_lab</th>\n",
       "    </tr>\n",
       "  </thead>\n",
       "  <tbody>\n",
       "    <tr>\n",
       "      <th>0</th>\n",
       "      <td>[1.0, 2.0, 3.0, 4.0, 5.0, 6.0, nan]</td>\n",
       "      <td>['Girl', 'Boy', 'Non-binary', 'I describe myse...</td>\n",
       "      <td>[14, 24, 18, 17, 12, 16, 11]</td>\n",
       "      <td>[12.5, 21.4, 16.1, 15.2, 10.7, 14.3, 9.8]</td>\n",
       "      <td>gender</td>\n",
       "      <td>101.0</td>\n",
       "      <td>School A</td>\n",
       "      <td>All</td>\n",
       "      <td>All</td>\n",
       "      <td>All</td>\n",
       "      <td>All</td>\n",
       "    </tr>\n",
       "    <tr>\n",
       "      <th>1</th>\n",
       "      <td>[1.0, 2.0, 3.0, 4.0, 5.0, nan]</td>\n",
       "      <td>['Yes', 'No', 'Prefer not to say', 'I describe...</td>\n",
       "      <td>[23, 16, 14, 25, 27, 7]</td>\n",
       "      <td>[20.5, 14.3, 12.5, 22.3, 24.1, 6.2]</td>\n",
       "      <td>transgender</td>\n",
       "      <td>105.0</td>\n",
       "      <td>School A</td>\n",
       "      <td>All</td>\n",
       "      <td>All</td>\n",
       "      <td>All</td>\n",
       "      <td>All</td>\n",
       "    </tr>\n",
       "    <tr>\n",
       "      <th>2</th>\n",
       "      <td>[1.0, 2.0, 3.0, 4.0, 5.0, 6.0, nan]</td>\n",
       "      <td>['Bi/pansexual', 'Gay/lesbian', 'Heterosexual/...</td>\n",
       "      <td>[14, 23, 12, 18, 27, 15, 3]</td>\n",
       "      <td>[12.5, 20.5, 10.7, 16.1, 24.1, 13.4, 2.7]</td>\n",
       "      <td>sexual_orientation</td>\n",
       "      <td>109.0</td>\n",
       "      <td>School A</td>\n",
       "      <td>All</td>\n",
       "      <td>All</td>\n",
       "      <td>All</td>\n",
       "      <td>All</td>\n",
       "    </tr>\n",
       "    <tr>\n",
       "      <th>3</th>\n",
       "      <td>[1.0, 2.0, 3.0, nan]</td>\n",
       "      <td>['Yes', 'No', 'Unsure', 'Missing']</td>\n",
       "      <td>[42, 29, 30, 11]</td>\n",
       "      <td>[37.5, 25.9, 26.8, 9.8]</td>\n",
       "      <td>neurodivergent</td>\n",
       "      <td>101.0</td>\n",
       "      <td>School A</td>\n",
       "      <td>All</td>\n",
       "      <td>All</td>\n",
       "      <td>All</td>\n",
       "      <td>All</td>\n",
       "    </tr>\n",
       "    <tr>\n",
       "      <th>4</th>\n",
       "      <td>[1.0, 2.0, 3.0, nan]</td>\n",
       "      <td>['Yes', 'No', \"I don't know\", 'Missing']</td>\n",
       "      <td>[35, 40, 34, 3]</td>\n",
       "      <td>[31.2, 35.7, 30.4, 2.7]</td>\n",
       "      <td>birth_parent1</td>\n",
       "      <td>109.0</td>\n",
       "      <td>School A</td>\n",
       "      <td>All</td>\n",
       "      <td>All</td>\n",
       "      <td>All</td>\n",
       "      <td>All</td>\n",
       "    </tr>\n",
       "  </tbody>\n",
       "</table>\n",
       "</div>"
      ],
      "text/plain": [
       "                                   cat  \\\n",
       "0  [1.0, 2.0, 3.0, 4.0, 5.0, 6.0, nan]   \n",
       "1       [1.0, 2.0, 3.0, 4.0, 5.0, nan]   \n",
       "2  [1.0, 2.0, 3.0, 4.0, 5.0, 6.0, nan]   \n",
       "3                 [1.0, 2.0, 3.0, nan]   \n",
       "4                 [1.0, 2.0, 3.0, nan]   \n",
       "\n",
       "                                             cat_lab  \\\n",
       "0  ['Girl', 'Boy', 'Non-binary', 'I describe myse...   \n",
       "1  ['Yes', 'No', 'Prefer not to say', 'I describe...   \n",
       "2  ['Bi/pansexual', 'Gay/lesbian', 'Heterosexual/...   \n",
       "3                 ['Yes', 'No', 'Unsure', 'Missing']   \n",
       "4           ['Yes', 'No', \"I don't know\", 'Missing']   \n",
       "\n",
       "                          count                                 percentage  \\\n",
       "0  [14, 24, 18, 17, 12, 16, 11]  [12.5, 21.4, 16.1, 15.2, 10.7, 14.3, 9.8]   \n",
       "1       [23, 16, 14, 25, 27, 7]        [20.5, 14.3, 12.5, 22.3, 24.1, 6.2]   \n",
       "2   [14, 23, 12, 18, 27, 15, 3]  [12.5, 20.5, 10.7, 16.1, 24.1, 13.4, 2.7]   \n",
       "3              [42, 29, 30, 11]                    [37.5, 25.9, 26.8, 9.8]   \n",
       "4               [35, 40, 34, 3]                    [31.2, 35.7, 30.4, 2.7]   \n",
       "\n",
       "              measure  n_responses school_lab year_group_lab gender_lab  \\\n",
       "0              gender        101.0   School A            All        All   \n",
       "1         transgender        105.0   School A            All        All   \n",
       "2  sexual_orientation        109.0   School A            All        All   \n",
       "3      neurodivergent        101.0   School A            All        All   \n",
       "4       birth_parent1        109.0   School A            All        All   \n",
       "\n",
       "  fsm_lab sen_lab  \n",
       "0     All     All  \n",
       "1     All     All  \n",
       "2     All     All  \n",
       "3     All     All  \n",
       "4     All     All  "
      ]
     },
     "execution_count": 13,
     "metadata": {},
     "output_type": "execute_result"
    }
   ],
   "source": [
    "res_csv = pd.read_csv(os.path.join(paths.survey, paths.aggregate))\n",
    "res_csv.head()"
   ]
  },
  {
   "cell_type": "code",
   "execution_count": 14,
   "metadata": {},
   "outputs": [
    {
     "data": {
      "text/html": [
       "<div>\n",
       "<style scoped>\n",
       "    .dataframe tbody tr th:only-of-type {\n",
       "        vertical-align: middle;\n",
       "    }\n",
       "\n",
       "    .dataframe tbody tr th {\n",
       "        vertical-align: top;\n",
       "    }\n",
       "\n",
       "    .dataframe thead th {\n",
       "        text-align: right;\n",
       "    }\n",
       "</style>\n",
       "<table border=\"1\" class=\"dataframe\">\n",
       "  <thead>\n",
       "    <tr style=\"text-align: right;\">\n",
       "      <th></th>\n",
       "      <th>cat</th>\n",
       "      <th>cat_lab</th>\n",
       "      <th>count</th>\n",
       "      <th>percentage</th>\n",
       "      <th>measure</th>\n",
       "      <th>n_responses</th>\n",
       "      <th>school_lab</th>\n",
       "      <th>year_group_lab</th>\n",
       "      <th>gender_lab</th>\n",
       "      <th>fsm_lab</th>\n",
       "      <th>sen_lab</th>\n",
       "    </tr>\n",
       "  </thead>\n",
       "  <tbody>\n",
       "    <tr>\n",
       "      <th>31</th>\n",
       "      <td>[1.0, 2.0, 3.0, 4.0, 5.0, nan]</td>\n",
       "      <td>['Never', 'Almost Never', 'Sometimes', 'Fairly...</td>\n",
       "      <td>[22, 22, 21, 18, 20, 9]</td>\n",
       "      <td>[19.6, 19.6, 18.8, 16.1, 17.9, 8.0]</td>\n",
       "      <td>stress_control</td>\n",
       "      <td>103.0</td>\n",
       "      <td>School A</td>\n",
       "      <td>All</td>\n",
       "      <td>All</td>\n",
       "      <td>All</td>\n",
       "      <td>All</td>\n",
       "    </tr>\n",
       "    <tr>\n",
       "      <th>32</th>\n",
       "      <td>[1.0, 2.0, 3.0, 4.0, 5.0, nan]</td>\n",
       "      <td>['Never', 'Almost Never', 'Sometimes', 'Fairly...</td>\n",
       "      <td>[18, 22, 23, 25, 19, 5]</td>\n",
       "      <td>[16.1, 19.6, 20.5, 22.3, 17.0, 4.5]</td>\n",
       "      <td>stress_overcome</td>\n",
       "      <td>107.0</td>\n",
       "      <td>School A</td>\n",
       "      <td>All</td>\n",
       "      <td>All</td>\n",
       "      <td>All</td>\n",
       "      <td>All</td>\n",
       "    </tr>\n",
       "    <tr>\n",
       "      <th>33</th>\n",
       "      <td>[1.0, 2.0, 3.0, 4.0, 5.0, nan]</td>\n",
       "      <td>['Never', 'Almost Never', 'Sometimes', 'Fairly...</td>\n",
       "      <td>[25, 15, 24, 22, 20, 6]</td>\n",
       "      <td>[22.3, 13.4, 21.4, 19.6, 17.9, 5.4]</td>\n",
       "      <td>stress_confident</td>\n",
       "      <td>106.0</td>\n",
       "      <td>School A</td>\n",
       "      <td>All</td>\n",
       "      <td>All</td>\n",
       "      <td>All</td>\n",
       "      <td>All</td>\n",
       "    </tr>\n",
       "    <tr>\n",
       "      <th>34</th>\n",
       "      <td>[1.0, 2.0, 3.0, 4.0, 5.0, nan]</td>\n",
       "      <td>['Never', 'Almost Never', 'Sometimes', 'Fairly...</td>\n",
       "      <td>[24, 28, 21, 21, 17, 1]</td>\n",
       "      <td>[21.4, 25.0, 18.8, 18.8, 15.2, 0.9]</td>\n",
       "      <td>stress_way</td>\n",
       "      <td>111.0</td>\n",
       "      <td>School A</td>\n",
       "      <td>All</td>\n",
       "      <td>All</td>\n",
       "      <td>All</td>\n",
       "      <td>All</td>\n",
       "    </tr>\n",
       "  </tbody>\n",
       "</table>\n",
       "</div>"
      ],
      "text/plain": [
       "                               cat  \\\n",
       "31  [1.0, 2.0, 3.0, 4.0, 5.0, nan]   \n",
       "32  [1.0, 2.0, 3.0, 4.0, 5.0, nan]   \n",
       "33  [1.0, 2.0, 3.0, 4.0, 5.0, nan]   \n",
       "34  [1.0, 2.0, 3.0, 4.0, 5.0, nan]   \n",
       "\n",
       "                                              cat_lab  \\\n",
       "31  ['Never', 'Almost Never', 'Sometimes', 'Fairly...   \n",
       "32  ['Never', 'Almost Never', 'Sometimes', 'Fairly...   \n",
       "33  ['Never', 'Almost Never', 'Sometimes', 'Fairly...   \n",
       "34  ['Never', 'Almost Never', 'Sometimes', 'Fairly...   \n",
       "\n",
       "                      count                           percentage  \\\n",
       "31  [22, 22, 21, 18, 20, 9]  [19.6, 19.6, 18.8, 16.1, 17.9, 8.0]   \n",
       "32  [18, 22, 23, 25, 19, 5]  [16.1, 19.6, 20.5, 22.3, 17.0, 4.5]   \n",
       "33  [25, 15, 24, 22, 20, 6]  [22.3, 13.4, 21.4, 19.6, 17.9, 5.4]   \n",
       "34  [24, 28, 21, 21, 17, 1]  [21.4, 25.0, 18.8, 18.8, 15.2, 0.9]   \n",
       "\n",
       "             measure  n_responses school_lab year_group_lab gender_lab  \\\n",
       "31    stress_control        103.0   School A            All        All   \n",
       "32   stress_overcome        107.0   School A            All        All   \n",
       "33  stress_confident        106.0   School A            All        All   \n",
       "34        stress_way        111.0   School A            All        All   \n",
       "\n",
       "   fsm_lab sen_lab  \n",
       "31     All     All  \n",
       "32     All     All  \n",
       "33     All     All  \n",
       "34     All     All  "
      ]
     },
     "execution_count": 14,
     "metadata": {},
     "output_type": "execute_result"
    }
   ],
   "source": [
    "chosen = res_csv[\n",
    "    (res_csv['measure'].isin(['stress_control', 'stress_overcome',\n",
    "                             'stress_confident', 'stress_way'])) &\n",
    "    (res_csv['school_lab'] == 'School A') &\n",
    "    (res_csv['year_group_lab'] == 'All') &\n",
    "    (res_csv['gender_lab'] == 'All') &\n",
    "    (res_csv['fsm_lab'] == 'All') &\n",
    "    (res_csv['sen_lab'] == 'All')]\n",
    "chosen"
   ]
  },
  {
   "cell_type": "code",
   "execution_count": 15,
   "metadata": {},
   "outputs": [
    {
     "data": {
      "text/html": [
       "<div>\n",
       "<style scoped>\n",
       "    .dataframe tbody tr th:only-of-type {\n",
       "        vertical-align: middle;\n",
       "    }\n",
       "\n",
       "    .dataframe tbody tr th {\n",
       "        vertical-align: top;\n",
       "    }\n",
       "\n",
       "    .dataframe thead th {\n",
       "        text-align: right;\n",
       "    }\n",
       "</style>\n",
       "<table border=\"1\" class=\"dataframe\">\n",
       "  <thead>\n",
       "    <tr style=\"text-align: right;\">\n",
       "      <th></th>\n",
       "      <th>cat_lab</th>\n",
       "      <th>percentage</th>\n",
       "      <th>count</th>\n",
       "      <th>measure</th>\n",
       "    </tr>\n",
       "  </thead>\n",
       "  <tbody>\n",
       "    <tr>\n",
       "      <th>0</th>\n",
       "      <td>Never</td>\n",
       "      <td>19.6</td>\n",
       "      <td>22</td>\n",
       "      <td>stress_control</td>\n",
       "    </tr>\n",
       "    <tr>\n",
       "      <th>1</th>\n",
       "      <td>Almost Never</td>\n",
       "      <td>19.6</td>\n",
       "      <td>22</td>\n",
       "      <td>stress_control</td>\n",
       "    </tr>\n",
       "    <tr>\n",
       "      <th>2</th>\n",
       "      <td>Sometimes</td>\n",
       "      <td>18.8</td>\n",
       "      <td>21</td>\n",
       "      <td>stress_control</td>\n",
       "    </tr>\n",
       "    <tr>\n",
       "      <th>3</th>\n",
       "      <td>Fairly Often</td>\n",
       "      <td>16.1</td>\n",
       "      <td>18</td>\n",
       "      <td>stress_control</td>\n",
       "    </tr>\n",
       "    <tr>\n",
       "      <th>4</th>\n",
       "      <td>Very Often</td>\n",
       "      <td>17.9</td>\n",
       "      <td>20</td>\n",
       "      <td>stress_control</td>\n",
       "    </tr>\n",
       "    <tr>\n",
       "      <th>5</th>\n",
       "      <td>Missing</td>\n",
       "      <td>8.0</td>\n",
       "      <td>9</td>\n",
       "      <td>stress_control</td>\n",
       "    </tr>\n",
       "    <tr>\n",
       "      <th>0</th>\n",
       "      <td>Never</td>\n",
       "      <td>16.1</td>\n",
       "      <td>18</td>\n",
       "      <td>stress_overcome</td>\n",
       "    </tr>\n",
       "    <tr>\n",
       "      <th>1</th>\n",
       "      <td>Almost Never</td>\n",
       "      <td>19.6</td>\n",
       "      <td>22</td>\n",
       "      <td>stress_overcome</td>\n",
       "    </tr>\n",
       "    <tr>\n",
       "      <th>2</th>\n",
       "      <td>Sometimes</td>\n",
       "      <td>20.5</td>\n",
       "      <td>23</td>\n",
       "      <td>stress_overcome</td>\n",
       "    </tr>\n",
       "    <tr>\n",
       "      <th>3</th>\n",
       "      <td>Fairly Often</td>\n",
       "      <td>22.3</td>\n",
       "      <td>25</td>\n",
       "      <td>stress_overcome</td>\n",
       "    </tr>\n",
       "    <tr>\n",
       "      <th>4</th>\n",
       "      <td>Very Often</td>\n",
       "      <td>17.0</td>\n",
       "      <td>19</td>\n",
       "      <td>stress_overcome</td>\n",
       "    </tr>\n",
       "    <tr>\n",
       "      <th>5</th>\n",
       "      <td>Missing</td>\n",
       "      <td>4.5</td>\n",
       "      <td>5</td>\n",
       "      <td>stress_overcome</td>\n",
       "    </tr>\n",
       "    <tr>\n",
       "      <th>0</th>\n",
       "      <td>Never</td>\n",
       "      <td>22.3</td>\n",
       "      <td>25</td>\n",
       "      <td>stress_confident</td>\n",
       "    </tr>\n",
       "    <tr>\n",
       "      <th>1</th>\n",
       "      <td>Almost Never</td>\n",
       "      <td>13.4</td>\n",
       "      <td>15</td>\n",
       "      <td>stress_confident</td>\n",
       "    </tr>\n",
       "    <tr>\n",
       "      <th>2</th>\n",
       "      <td>Sometimes</td>\n",
       "      <td>21.4</td>\n",
       "      <td>24</td>\n",
       "      <td>stress_confident</td>\n",
       "    </tr>\n",
       "    <tr>\n",
       "      <th>3</th>\n",
       "      <td>Fairly Often</td>\n",
       "      <td>19.6</td>\n",
       "      <td>22</td>\n",
       "      <td>stress_confident</td>\n",
       "    </tr>\n",
       "    <tr>\n",
       "      <th>4</th>\n",
       "      <td>Very Often</td>\n",
       "      <td>17.9</td>\n",
       "      <td>20</td>\n",
       "      <td>stress_confident</td>\n",
       "    </tr>\n",
       "    <tr>\n",
       "      <th>5</th>\n",
       "      <td>Missing</td>\n",
       "      <td>5.4</td>\n",
       "      <td>6</td>\n",
       "      <td>stress_confident</td>\n",
       "    </tr>\n",
       "    <tr>\n",
       "      <th>0</th>\n",
       "      <td>Never</td>\n",
       "      <td>21.4</td>\n",
       "      <td>24</td>\n",
       "      <td>stress_way</td>\n",
       "    </tr>\n",
       "    <tr>\n",
       "      <th>1</th>\n",
       "      <td>Almost Never</td>\n",
       "      <td>25.0</td>\n",
       "      <td>28</td>\n",
       "      <td>stress_way</td>\n",
       "    </tr>\n",
       "    <tr>\n",
       "      <th>2</th>\n",
       "      <td>Sometimes</td>\n",
       "      <td>18.8</td>\n",
       "      <td>21</td>\n",
       "      <td>stress_way</td>\n",
       "    </tr>\n",
       "    <tr>\n",
       "      <th>3</th>\n",
       "      <td>Fairly Often</td>\n",
       "      <td>18.8</td>\n",
       "      <td>21</td>\n",
       "      <td>stress_way</td>\n",
       "    </tr>\n",
       "    <tr>\n",
       "      <th>4</th>\n",
       "      <td>Very Often</td>\n",
       "      <td>15.2</td>\n",
       "      <td>17</td>\n",
       "      <td>stress_way</td>\n",
       "    </tr>\n",
       "    <tr>\n",
       "      <th>5</th>\n",
       "      <td>Missing</td>\n",
       "      <td>0.9</td>\n",
       "      <td>1</td>\n",
       "      <td>stress_way</td>\n",
       "    </tr>\n",
       "  </tbody>\n",
       "</table>\n",
       "</div>"
      ],
      "text/plain": [
       "        cat_lab  percentage  count           measure\n",
       "0         Never        19.6     22    stress_control\n",
       "1  Almost Never        19.6     22    stress_control\n",
       "2     Sometimes        18.8     21    stress_control\n",
       "3  Fairly Often        16.1     18    stress_control\n",
       "4    Very Often        17.9     20    stress_control\n",
       "5       Missing         8.0      9    stress_control\n",
       "0         Never        16.1     18   stress_overcome\n",
       "1  Almost Never        19.6     22   stress_overcome\n",
       "2     Sometimes        20.5     23   stress_overcome\n",
       "3  Fairly Often        22.3     25   stress_overcome\n",
       "4    Very Often        17.0     19   stress_overcome\n",
       "5       Missing         4.5      5   stress_overcome\n",
       "0         Never        22.3     25  stress_confident\n",
       "1  Almost Never        13.4     15  stress_confident\n",
       "2     Sometimes        21.4     24  stress_confident\n",
       "3  Fairly Often        19.6     22  stress_confident\n",
       "4    Very Often        17.9     20  stress_confident\n",
       "5       Missing         5.4      6  stress_confident\n",
       "0         Never        21.4     24        stress_way\n",
       "1  Almost Never        25.0     28        stress_way\n",
       "2     Sometimes        18.8     21        stress_way\n",
       "3  Fairly Often        18.8     21        stress_way\n",
       "4    Very Often        15.2     17        stress_way\n",
       "5       Missing         0.9      1        stress_way"
      ]
     },
     "execution_count": 15,
     "metadata": {},
     "output_type": "execute_result"
    }
   ],
   "source": [
    "df_list = []\n",
    "for index, row in chosen.iterrows():\n",
    "    df = pd.DataFrame(zip(literal_eval(row['cat_lab']),\n",
    "                          literal_eval(row['percentage']),\n",
    "                          literal_eval(row['count'])),\n",
    "                      columns=['cat_lab', 'percentage', 'count'])\n",
    "    df['measure'] = row['measure']\n",
    "    df_list.append(df)\n",
    "chosen_result = pd.concat(df_list)\n",
    "chosen_result"
   ]
  },
  {
   "cell_type": "code",
   "execution_count": 16,
   "metadata": {},
   "outputs": [
    {
     "data": {
      "application/vnd.plotly.v1+json": {
       "config": {
        "plotlyServerURL": "https://plot.ly"
       },
       "data": [
        {
         "alignmentgroup": "True",
         "customdata": [
          [
           22
          ],
          [
           18
          ],
          [
           25
          ],
          [
           24
          ]
         ],
         "hovertemplate": "cat_lab=Never<br>percentage=%{x}<br>measure=%{y}<br>count=%{customdata[0]}<extra></extra>",
         "legendgroup": "Never",
         "marker": {
          "color": "#636efa",
          "pattern": {
           "shape": ""
          }
         },
         "name": "Never",
         "offsetgroup": "Never",
         "orientation": "h",
         "showlegend": true,
         "textposition": "auto",
         "texttemplate": "%{x}",
         "type": "bar",
         "x": [
          19.6,
          16.1,
          22.3,
          21.4
         ],
         "xaxis": "x",
         "y": [
          "stress_control",
          "stress_overcome",
          "stress_confident",
          "stress_way"
         ],
         "yaxis": "y"
        },
        {
         "alignmentgroup": "True",
         "customdata": [
          [
           22
          ],
          [
           22
          ],
          [
           15
          ],
          [
           28
          ]
         ],
         "hovertemplate": "cat_lab=Almost Never<br>percentage=%{x}<br>measure=%{y}<br>count=%{customdata[0]}<extra></extra>",
         "legendgroup": "Almost Never",
         "marker": {
          "color": "#EF553B",
          "pattern": {
           "shape": ""
          }
         },
         "name": "Almost Never",
         "offsetgroup": "Almost Never",
         "orientation": "h",
         "showlegend": true,
         "textposition": "auto",
         "texttemplate": "%{x}",
         "type": "bar",
         "x": [
          19.6,
          19.6,
          13.4,
          25
         ],
         "xaxis": "x",
         "y": [
          "stress_control",
          "stress_overcome",
          "stress_confident",
          "stress_way"
         ],
         "yaxis": "y"
        },
        {
         "alignmentgroup": "True",
         "customdata": [
          [
           21
          ],
          [
           23
          ],
          [
           24
          ],
          [
           21
          ]
         ],
         "hovertemplate": "cat_lab=Sometimes<br>percentage=%{x}<br>measure=%{y}<br>count=%{customdata[0]}<extra></extra>",
         "legendgroup": "Sometimes",
         "marker": {
          "color": "#00cc96",
          "pattern": {
           "shape": ""
          }
         },
         "name": "Sometimes",
         "offsetgroup": "Sometimes",
         "orientation": "h",
         "showlegend": true,
         "textposition": "auto",
         "texttemplate": "%{x}",
         "type": "bar",
         "x": [
          18.8,
          20.5,
          21.4,
          18.8
         ],
         "xaxis": "x",
         "y": [
          "stress_control",
          "stress_overcome",
          "stress_confident",
          "stress_way"
         ],
         "yaxis": "y"
        },
        {
         "alignmentgroup": "True",
         "customdata": [
          [
           18
          ],
          [
           25
          ],
          [
           22
          ],
          [
           21
          ]
         ],
         "hovertemplate": "cat_lab=Fairly Often<br>percentage=%{x}<br>measure=%{y}<br>count=%{customdata[0]}<extra></extra>",
         "legendgroup": "Fairly Often",
         "marker": {
          "color": "#ab63fa",
          "pattern": {
           "shape": ""
          }
         },
         "name": "Fairly Often",
         "offsetgroup": "Fairly Often",
         "orientation": "h",
         "showlegend": true,
         "textposition": "auto",
         "texttemplate": "%{x}",
         "type": "bar",
         "x": [
          16.1,
          22.3,
          19.6,
          18.8
         ],
         "xaxis": "x",
         "y": [
          "stress_control",
          "stress_overcome",
          "stress_confident",
          "stress_way"
         ],
         "yaxis": "y"
        },
        {
         "alignmentgroup": "True",
         "customdata": [
          [
           20
          ],
          [
           19
          ],
          [
           20
          ],
          [
           17
          ]
         ],
         "hovertemplate": "cat_lab=Very Often<br>percentage=%{x}<br>measure=%{y}<br>count=%{customdata[0]}<extra></extra>",
         "legendgroup": "Very Often",
         "marker": {
          "color": "#FFA15A",
          "pattern": {
           "shape": ""
          }
         },
         "name": "Very Often",
         "offsetgroup": "Very Often",
         "orientation": "h",
         "showlegend": true,
         "textposition": "auto",
         "texttemplate": "%{x}",
         "type": "bar",
         "x": [
          17.9,
          17,
          17.9,
          15.2
         ],
         "xaxis": "x",
         "y": [
          "stress_control",
          "stress_overcome",
          "stress_confident",
          "stress_way"
         ],
         "yaxis": "y"
        },
        {
         "alignmentgroup": "True",
         "customdata": [
          [
           9
          ],
          [
           5
          ],
          [
           6
          ],
          [
           1
          ]
         ],
         "hovertemplate": "cat_lab=Missing<br>percentage=%{x}<br>measure=%{y}<br>count=%{customdata[0]}<extra></extra>",
         "legendgroup": "Missing",
         "marker": {
          "color": "#19d3f3",
          "pattern": {
           "shape": ""
          }
         },
         "name": "Missing",
         "offsetgroup": "Missing",
         "orientation": "h",
         "showlegend": true,
         "textposition": "auto",
         "texttemplate": "%{x}",
         "type": "bar",
         "x": [
          8,
          4.5,
          5.4,
          0.9
         ],
         "xaxis": "x",
         "y": [
          "stress_control",
          "stress_overcome",
          "stress_confident",
          "stress_way"
         ],
         "yaxis": "y"
        }
       ],
       "layout": {
        "barmode": "relative",
        "legend": {
         "title": {
          "text": "cat_lab"
         },
         "tracegroupgap": 0
        },
        "template": {
         "data": {
          "bar": [
           {
            "error_x": {
             "color": "#2a3f5f"
            },
            "error_y": {
             "color": "#2a3f5f"
            },
            "marker": {
             "line": {
              "color": "#E5ECF6",
              "width": 0.5
             },
             "pattern": {
              "fillmode": "overlay",
              "size": 10,
              "solidity": 0.2
             }
            },
            "type": "bar"
           }
          ],
          "barpolar": [
           {
            "marker": {
             "line": {
              "color": "#E5ECF6",
              "width": 0.5
             },
             "pattern": {
              "fillmode": "overlay",
              "size": 10,
              "solidity": 0.2
             }
            },
            "type": "barpolar"
           }
          ],
          "carpet": [
           {
            "aaxis": {
             "endlinecolor": "#2a3f5f",
             "gridcolor": "white",
             "linecolor": "white",
             "minorgridcolor": "white",
             "startlinecolor": "#2a3f5f"
            },
            "baxis": {
             "endlinecolor": "#2a3f5f",
             "gridcolor": "white",
             "linecolor": "white",
             "minorgridcolor": "white",
             "startlinecolor": "#2a3f5f"
            },
            "type": "carpet"
           }
          ],
          "choropleth": [
           {
            "colorbar": {
             "outlinewidth": 0,
             "ticks": ""
            },
            "type": "choropleth"
           }
          ],
          "contour": [
           {
            "colorbar": {
             "outlinewidth": 0,
             "ticks": ""
            },
            "colorscale": [
             [
              0,
              "#0d0887"
             ],
             [
              0.1111111111111111,
              "#46039f"
             ],
             [
              0.2222222222222222,
              "#7201a8"
             ],
             [
              0.3333333333333333,
              "#9c179e"
             ],
             [
              0.4444444444444444,
              "#bd3786"
             ],
             [
              0.5555555555555556,
              "#d8576b"
             ],
             [
              0.6666666666666666,
              "#ed7953"
             ],
             [
              0.7777777777777778,
              "#fb9f3a"
             ],
             [
              0.8888888888888888,
              "#fdca26"
             ],
             [
              1,
              "#f0f921"
             ]
            ],
            "type": "contour"
           }
          ],
          "contourcarpet": [
           {
            "colorbar": {
             "outlinewidth": 0,
             "ticks": ""
            },
            "type": "contourcarpet"
           }
          ],
          "heatmap": [
           {
            "colorbar": {
             "outlinewidth": 0,
             "ticks": ""
            },
            "colorscale": [
             [
              0,
              "#0d0887"
             ],
             [
              0.1111111111111111,
              "#46039f"
             ],
             [
              0.2222222222222222,
              "#7201a8"
             ],
             [
              0.3333333333333333,
              "#9c179e"
             ],
             [
              0.4444444444444444,
              "#bd3786"
             ],
             [
              0.5555555555555556,
              "#d8576b"
             ],
             [
              0.6666666666666666,
              "#ed7953"
             ],
             [
              0.7777777777777778,
              "#fb9f3a"
             ],
             [
              0.8888888888888888,
              "#fdca26"
             ],
             [
              1,
              "#f0f921"
             ]
            ],
            "type": "heatmap"
           }
          ],
          "heatmapgl": [
           {
            "colorbar": {
             "outlinewidth": 0,
             "ticks": ""
            },
            "colorscale": [
             [
              0,
              "#0d0887"
             ],
             [
              0.1111111111111111,
              "#46039f"
             ],
             [
              0.2222222222222222,
              "#7201a8"
             ],
             [
              0.3333333333333333,
              "#9c179e"
             ],
             [
              0.4444444444444444,
              "#bd3786"
             ],
             [
              0.5555555555555556,
              "#d8576b"
             ],
             [
              0.6666666666666666,
              "#ed7953"
             ],
             [
              0.7777777777777778,
              "#fb9f3a"
             ],
             [
              0.8888888888888888,
              "#fdca26"
             ],
             [
              1,
              "#f0f921"
             ]
            ],
            "type": "heatmapgl"
           }
          ],
          "histogram": [
           {
            "marker": {
             "pattern": {
              "fillmode": "overlay",
              "size": 10,
              "solidity": 0.2
             }
            },
            "type": "histogram"
           }
          ],
          "histogram2d": [
           {
            "colorbar": {
             "outlinewidth": 0,
             "ticks": ""
            },
            "colorscale": [
             [
              0,
              "#0d0887"
             ],
             [
              0.1111111111111111,
              "#46039f"
             ],
             [
              0.2222222222222222,
              "#7201a8"
             ],
             [
              0.3333333333333333,
              "#9c179e"
             ],
             [
              0.4444444444444444,
              "#bd3786"
             ],
             [
              0.5555555555555556,
              "#d8576b"
             ],
             [
              0.6666666666666666,
              "#ed7953"
             ],
             [
              0.7777777777777778,
              "#fb9f3a"
             ],
             [
              0.8888888888888888,
              "#fdca26"
             ],
             [
              1,
              "#f0f921"
             ]
            ],
            "type": "histogram2d"
           }
          ],
          "histogram2dcontour": [
           {
            "colorbar": {
             "outlinewidth": 0,
             "ticks": ""
            },
            "colorscale": [
             [
              0,
              "#0d0887"
             ],
             [
              0.1111111111111111,
              "#46039f"
             ],
             [
              0.2222222222222222,
              "#7201a8"
             ],
             [
              0.3333333333333333,
              "#9c179e"
             ],
             [
              0.4444444444444444,
              "#bd3786"
             ],
             [
              0.5555555555555556,
              "#d8576b"
             ],
             [
              0.6666666666666666,
              "#ed7953"
             ],
             [
              0.7777777777777778,
              "#fb9f3a"
             ],
             [
              0.8888888888888888,
              "#fdca26"
             ],
             [
              1,
              "#f0f921"
             ]
            ],
            "type": "histogram2dcontour"
           }
          ],
          "mesh3d": [
           {
            "colorbar": {
             "outlinewidth": 0,
             "ticks": ""
            },
            "type": "mesh3d"
           }
          ],
          "parcoords": [
           {
            "line": {
             "colorbar": {
              "outlinewidth": 0,
              "ticks": ""
             }
            },
            "type": "parcoords"
           }
          ],
          "pie": [
           {
            "automargin": true,
            "type": "pie"
           }
          ],
          "scatter": [
           {
            "fillpattern": {
             "fillmode": "overlay",
             "size": 10,
             "solidity": 0.2
            },
            "type": "scatter"
           }
          ],
          "scatter3d": [
           {
            "line": {
             "colorbar": {
              "outlinewidth": 0,
              "ticks": ""
             }
            },
            "marker": {
             "colorbar": {
              "outlinewidth": 0,
              "ticks": ""
             }
            },
            "type": "scatter3d"
           }
          ],
          "scattercarpet": [
           {
            "marker": {
             "colorbar": {
              "outlinewidth": 0,
              "ticks": ""
             }
            },
            "type": "scattercarpet"
           }
          ],
          "scattergeo": [
           {
            "marker": {
             "colorbar": {
              "outlinewidth": 0,
              "ticks": ""
             }
            },
            "type": "scattergeo"
           }
          ],
          "scattergl": [
           {
            "marker": {
             "colorbar": {
              "outlinewidth": 0,
              "ticks": ""
             }
            },
            "type": "scattergl"
           }
          ],
          "scattermapbox": [
           {
            "marker": {
             "colorbar": {
              "outlinewidth": 0,
              "ticks": ""
             }
            },
            "type": "scattermapbox"
           }
          ],
          "scatterpolar": [
           {
            "marker": {
             "colorbar": {
              "outlinewidth": 0,
              "ticks": ""
             }
            },
            "type": "scatterpolar"
           }
          ],
          "scatterpolargl": [
           {
            "marker": {
             "colorbar": {
              "outlinewidth": 0,
              "ticks": ""
             }
            },
            "type": "scatterpolargl"
           }
          ],
          "scatterternary": [
           {
            "marker": {
             "colorbar": {
              "outlinewidth": 0,
              "ticks": ""
             }
            },
            "type": "scatterternary"
           }
          ],
          "surface": [
           {
            "colorbar": {
             "outlinewidth": 0,
             "ticks": ""
            },
            "colorscale": [
             [
              0,
              "#0d0887"
             ],
             [
              0.1111111111111111,
              "#46039f"
             ],
             [
              0.2222222222222222,
              "#7201a8"
             ],
             [
              0.3333333333333333,
              "#9c179e"
             ],
             [
              0.4444444444444444,
              "#bd3786"
             ],
             [
              0.5555555555555556,
              "#d8576b"
             ],
             [
              0.6666666666666666,
              "#ed7953"
             ],
             [
              0.7777777777777778,
              "#fb9f3a"
             ],
             [
              0.8888888888888888,
              "#fdca26"
             ],
             [
              1,
              "#f0f921"
             ]
            ],
            "type": "surface"
           }
          ],
          "table": [
           {
            "cells": {
             "fill": {
              "color": "#EBF0F8"
             },
             "line": {
              "color": "white"
             }
            },
            "header": {
             "fill": {
              "color": "#C8D4E3"
             },
             "line": {
              "color": "white"
             }
            },
            "type": "table"
           }
          ]
         },
         "layout": {
          "annotationdefaults": {
           "arrowcolor": "#2a3f5f",
           "arrowhead": 0,
           "arrowwidth": 1
          },
          "autotypenumbers": "strict",
          "coloraxis": {
           "colorbar": {
            "outlinewidth": 0,
            "ticks": ""
           }
          },
          "colorscale": {
           "diverging": [
            [
             0,
             "#8e0152"
            ],
            [
             0.1,
             "#c51b7d"
            ],
            [
             0.2,
             "#de77ae"
            ],
            [
             0.3,
             "#f1b6da"
            ],
            [
             0.4,
             "#fde0ef"
            ],
            [
             0.5,
             "#f7f7f7"
            ],
            [
             0.6,
             "#e6f5d0"
            ],
            [
             0.7,
             "#b8e186"
            ],
            [
             0.8,
             "#7fbc41"
            ],
            [
             0.9,
             "#4d9221"
            ],
            [
             1,
             "#276419"
            ]
           ],
           "sequential": [
            [
             0,
             "#0d0887"
            ],
            [
             0.1111111111111111,
             "#46039f"
            ],
            [
             0.2222222222222222,
             "#7201a8"
            ],
            [
             0.3333333333333333,
             "#9c179e"
            ],
            [
             0.4444444444444444,
             "#bd3786"
            ],
            [
             0.5555555555555556,
             "#d8576b"
            ],
            [
             0.6666666666666666,
             "#ed7953"
            ],
            [
             0.7777777777777778,
             "#fb9f3a"
            ],
            [
             0.8888888888888888,
             "#fdca26"
            ],
            [
             1,
             "#f0f921"
            ]
           ],
           "sequentialminus": [
            [
             0,
             "#0d0887"
            ],
            [
             0.1111111111111111,
             "#46039f"
            ],
            [
             0.2222222222222222,
             "#7201a8"
            ],
            [
             0.3333333333333333,
             "#9c179e"
            ],
            [
             0.4444444444444444,
             "#bd3786"
            ],
            [
             0.5555555555555556,
             "#d8576b"
            ],
            [
             0.6666666666666666,
             "#ed7953"
            ],
            [
             0.7777777777777778,
             "#fb9f3a"
            ],
            [
             0.8888888888888888,
             "#fdca26"
            ],
            [
             1,
             "#f0f921"
            ]
           ]
          },
          "colorway": [
           "#636efa",
           "#EF553B",
           "#00cc96",
           "#ab63fa",
           "#FFA15A",
           "#19d3f3",
           "#FF6692",
           "#B6E880",
           "#FF97FF",
           "#FECB52"
          ],
          "font": {
           "color": "#2a3f5f"
          },
          "geo": {
           "bgcolor": "white",
           "lakecolor": "white",
           "landcolor": "#E5ECF6",
           "showlakes": true,
           "showland": true,
           "subunitcolor": "white"
          },
          "hoverlabel": {
           "align": "left"
          },
          "hovermode": "closest",
          "mapbox": {
           "style": "light"
          },
          "paper_bgcolor": "white",
          "plot_bgcolor": "#E5ECF6",
          "polar": {
           "angularaxis": {
            "gridcolor": "white",
            "linecolor": "white",
            "ticks": ""
           },
           "bgcolor": "#E5ECF6",
           "radialaxis": {
            "gridcolor": "white",
            "linecolor": "white",
            "ticks": ""
           }
          },
          "scene": {
           "xaxis": {
            "backgroundcolor": "#E5ECF6",
            "gridcolor": "white",
            "gridwidth": 2,
            "linecolor": "white",
            "showbackground": true,
            "ticks": "",
            "zerolinecolor": "white"
           },
           "yaxis": {
            "backgroundcolor": "#E5ECF6",
            "gridcolor": "white",
            "gridwidth": 2,
            "linecolor": "white",
            "showbackground": true,
            "ticks": "",
            "zerolinecolor": "white"
           },
           "zaxis": {
            "backgroundcolor": "#E5ECF6",
            "gridcolor": "white",
            "gridwidth": 2,
            "linecolor": "white",
            "showbackground": true,
            "ticks": "",
            "zerolinecolor": "white"
           }
          },
          "shapedefaults": {
           "line": {
            "color": "#2a3f5f"
           }
          },
          "ternary": {
           "aaxis": {
            "gridcolor": "white",
            "linecolor": "white",
            "ticks": ""
           },
           "baxis": {
            "gridcolor": "white",
            "linecolor": "white",
            "ticks": ""
           },
           "bgcolor": "#E5ECF6",
           "caxis": {
            "gridcolor": "white",
            "linecolor": "white",
            "ticks": ""
           }
          },
          "title": {
           "x": 0.05
          },
          "xaxis": {
           "automargin": true,
           "gridcolor": "white",
           "linecolor": "white",
           "ticks": "",
           "title": {
            "standoff": 15
           },
           "zerolinecolor": "white",
           "zerolinewidth": 2
          },
          "yaxis": {
           "automargin": true,
           "gridcolor": "white",
           "linecolor": "white",
           "ticks": "",
           "title": {
            "standoff": 15
           },
           "zerolinecolor": "white",
           "zerolinewidth": 2
          }
         }
        },
        "title": {
         "text": "Stress"
        },
        "xaxis": {
         "anchor": "y",
         "domain": [
          0,
          1
         ],
         "title": {
          "text": "percentage"
         }
        },
        "yaxis": {
         "anchor": "x",
         "domain": [
          0,
          1
         ],
         "title": {
          "text": "measure"
         }
        }
       }
      }
     },
     "metadata": {},
     "output_type": "display_data"
    }
   ],
   "source": [
    "px.bar(chosen_result, x='percentage', y='measure', color='cat_lab',\n",
    "       text_auto=True, title='Stress', hover_data=['count'], orientation='h')"
   ]
  }
 ],
 "metadata": {
  "kernelspec": {
   "display_name": "kailo_dashboards",
   "language": "python",
   "name": "python3"
  },
  "language_info": {
   "codemirror_mode": {
    "name": "ipython",
    "version": 3
   },
   "file_extension": ".py",
   "mimetype": "text/x-python",
   "name": "python",
   "nbconvert_exporter": "python",
   "pygments_lexer": "ipython3",
   "version": "3.10.6"
  }
 },
 "nbformat": 4,
 "nbformat_minor": 2
}
